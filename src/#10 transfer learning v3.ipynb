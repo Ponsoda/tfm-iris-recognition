{
 "cells": [
  {
   "cell_type": "code",
   "execution_count": 1,
   "source": [
    "# https://www.kaggle.com/kutaykutlu/resnet50-transfer-learning-cifar-10-beginner\r\n",
    "\r\n",
    "# https://keras.io/examples/vision/image_classification_efficientnet_fine_tuning/"
   ],
   "outputs": [],
   "metadata": {}
  },
  {
   "cell_type": "code",
   "execution_count": 17,
   "source": [
    "from keras.applications.vgg16 import VGG16\r\n",
    "from tensorflow import keras"
   ],
   "outputs": [],
   "metadata": {}
  },
  {
   "cell_type": "code",
   "execution_count": 18,
   "source": [
    "model = VGG16(weights='imagenet')"
   ],
   "outputs": [],
   "metadata": {}
  },
  {
   "cell_type": "code",
   "execution_count": 22,
   "source": [
    "import tensorflow as tf\r\n",
    "import numpy as np\r\n",
    "import pathlib\r\n",
    "\r\n",
    "# step 1\r\n",
    "IMAGE_PATHS_DIR = \r\n",
    "# IMAGE_PATHS_DIR = \r\n",
    "\r\n",
    "paths = np.array([x.__str__() for x in pathlib.Path(IMAGE_PATHS_DIR).rglob('*.bmp')])\r\n",
    "filenames = tf.constant(paths)\r\n",
    "\r\n",
    "labels_array = np.array([x.split(\"\\\\\")[-1].split(\"_\")[0] for x in paths])\r\n",
    "labels = tf.constant(labels_array)\r\n",
    "\r\n",
    "n_clases = np.max([int(i) for i in labels_array])\r\n",
    "\r\n",
    "# step 2: create a dataset returning slices of `filenames`\r\n",
    "dataset = tf.data.Dataset.from_tensor_slices((filenames, labels))\r\n",
    "\r\n",
    "dataset_len = len(dataset)\r\n",
    "\r\n",
    "print(f\"Dataset len: {dataset_len}\")\r\n",
    "\r\n",
    "train_size = int(0.7 * dataset_len)\r\n",
    "test_size = int(0.30 * dataset_len)\r\n",
    "\r\n",
    "print(f\"train size: {train_size}\")\r\n",
    "print(f\"test size: {test_size}\")\r\n",
    "\r\n",
    "def _parse_function(filename, label):\r\n",
    "    img = tf.io.read_file(filename)\r\n",
    "    image = tf.image.decode_bmp(img, channels = 3)\r\n",
    "    label = int(label)\r\n",
    "    return image, label\r\n",
    "\r\n",
    "dataset = dataset.shuffle(dataset_len, seed=42)\r\n",
    "dataset = dataset.map(_parse_function)\r\n",
    "\r\n",
    "train_ds = dataset.take(train_size)\r\n",
    "test_ds = dataset.skip(train_size)\r\n",
    "\r\n",
    "size = (224, 224)\r\n",
    "\r\n",
    "train_ds = train_ds.map(lambda x, y: (tf.image.resize(x, size), y))\r\n",
    "test_ds = test_ds.map(lambda x, y: (tf.image.resize(x, size), y))\r\n",
    "\r\n",
    "\r\n",
    "def label_preprocess(image, label):\r\n",
    "    label = tf.one_hot(label-1, n_clases) \r\n",
    "    return image, label\r\n",
    "\r\n",
    "train_ds = train_ds.map(\r\n",
    "    label_preprocess, num_parallel_calls=tf.data.AUTOTUNE\r\n",
    ")\r\n",
    "\r\n",
    "batch_size = 64\r\n",
    "batch_size = 1\r\n",
    "\r\n",
    "\r\n",
    "train_ds = train_ds.batch(batch_size=batch_size, drop_remainder=True)\r\n",
    "train_ds = train_ds.prefetch(tf.data.AUTOTUNE)\r\n",
    "\r\n",
    "test_ds = test_ds.map(label_preprocess)\r\n",
    "test_ds = test_ds.batch(batch_size=batch_size, drop_remainder=True)"
   ],
   "outputs": [
    {
     "output_type": "stream",
     "name": "stdout",
     "text": [
      "Dataset len: 14\n",
      "train size: 9\n",
      "test size: 4\n"
     ]
    }
   ],
   "metadata": {}
  },
  {
   "cell_type": "code",
   "execution_count": 23,
   "source": [
    "base_model = keras.applications.Xception(\r\n",
    "    weights=\"imagenet\",  # Load weights pre-trained on ImageNet.\r\n",
    "    input_shape=(224, 224, 3),\r\n",
    "    include_top=False,\r\n",
    ")  # Do not include the ImageNet classifier at the top.\r\n",
    "\r\n",
    "# Freeze the base_model\r\n",
    "base_model.trainable = False\r\n",
    "\r\n",
    "# Create new model on top\r\n",
    "inputs = keras.Input(shape=(224, 224, 3))\r\n",
    "\r\n",
    "outputs = VGG16(include_top=True, weights=None, classes=n_clases)(inputs)\r\n",
    "model = keras.Model(inputs, outputs)\r\n",
    "\r\n",
    "model.compile(\r\n",
    "        optimizer=\"adam\", loss=\"categorical_crossentropy\", metrics=[\"accuracy\"]\r\n",
    "    )"
   ],
   "outputs": [],
   "metadata": {}
  },
  {
   "cell_type": "code",
   "execution_count": 24,
   "source": [
    "epochs = 5  # @param {type: \"slider\", min:10, max:100}\r\n",
    "hist = model.fit(train_ds, epochs=epochs, validation_data=test_ds, verbose=2)"
   ],
   "outputs": [
    {
     "output_type": "stream",
     "name": "stdout",
     "text": [
      "Epoch 1/5\n",
      "9/9 - 19s - loss: 1320.9595 - accuracy: 0.3333 - val_loss: 0.8039 - val_accuracy: 0.4000 - 19s/epoch - 2s/step\n",
      "Epoch 2/5\n",
      "9/9 - 10s - loss: 2.2028 - accuracy: 0.5556 - val_loss: 0.6877 - val_accuracy: 0.6000 - 10s/epoch - 1s/step\n",
      "Epoch 3/5\n",
      "9/9 - 10s - loss: 0.7157 - accuracy: 0.4444 - val_loss: 0.7313 - val_accuracy: 0.4000 - 10s/epoch - 1s/step\n",
      "Epoch 4/5\n",
      "9/9 - 10s - loss: 0.7065 - accuracy: 0.6667 - val_loss: 0.6571 - val_accuracy: 0.8000 - 10s/epoch - 1s/step\n",
      "Epoch 5/5\n",
      "9/9 - 10s - loss: 0.6811 - accuracy: 0.6667 - val_loss: 0.6801 - val_accuracy: 0.6000 - 10s/epoch - 1s/step\n"
     ]
    }
   ],
   "metadata": {}
  },
  {
   "cell_type": "code",
   "execution_count": 25,
   "source": [
    "import matplotlib.pyplot as plt\r\n",
    "\r\n",
    "\r\n",
    "def plot_hist(hist):\r\n",
    "    plt.plot(hist.history[\"accuracy\"])\r\n",
    "    plt.plot(hist.history[\"val_accuracy\"])\r\n",
    "    plt.title(\"model accuracy\")\r\n",
    "    plt.ylabel(\"accuracy\")\r\n",
    "    plt.xlabel(\"epoch\")\r\n",
    "    plt.legend([\"train\", \"validation\"], loc=\"upper left\")\r\n",
    "    plt.show()\r\n",
    "\r\n",
    "\r\n",
    "plot_hist(hist)"
   ],
   "outputs": [
    {
     "output_type": "display_data",
     "data": {
      "image/png": "[encoded data removed]",
      "text/plain": [
       "<Figure size 432x288 with 1 Axes>"
      ]
     },
     "metadata": {
      "needs_background": "light"
     }
    }
   ],
   "metadata": {}
  },
  {
   "cell_type": "code",
   "execution_count": 27,
   "source": [
    "from tensorflow.keras import layers\r\n",
    "\r\n",
    "\r\n",
    "def build_model(num_classes):\r\n",
    "    inputs = layers.Input(shape=(224, 224, 3))\r\n",
    "    model = VGG16(include_top=False, input_tensor=inputs, weights=\"imagenet\")\r\n",
    "\r\n",
    "    # Freeze the pretrained weights\r\n",
    "    model.trainable = False\r\n",
    "\r\n",
    "    # Rebuild top\r\n",
    "    x = layers.GlobalAveragePooling2D(name=\"avg_pool\")(model.output)\r\n",
    "    x = layers.BatchNormalization()(x)\r\n",
    "\r\n",
    "    top_dropout_rate = 0.2\r\n",
    "    x = layers.Dropout(top_dropout_rate, name=\"top_dropout\")(x)\r\n",
    "    outputs = layers.Dense(num_classes, activation=\"softmax\", name=\"pred\")(x)\r\n",
    "\r\n",
    "    # Compile\r\n",
    "    model = keras.Model(inputs, outputs)\r\n",
    "    optimizer = keras.optimizers.Adam(learning_rate=1e-2)\r\n",
    "    model.compile(\r\n",
    "        optimizer=optimizer, loss=\"categorical_crossentropy\", metrics=[\"accuracy\"]\r\n",
    "    )\r\n",
    "    return model"
   ],
   "outputs": [],
   "metadata": {}
  },
  {
   "cell_type": "code",
   "execution_count": 28,
   "source": [
    "model = build_model(num_classes=n_clases)\r\n",
    "\r\n",
    "epochs = 10  # @param {type: \"slider\", min:8, max:80}\r\n",
    "hist = model.fit(train_ds, epochs=epochs, validation_data=test_ds, verbose=2)"
   ],
   "outputs": [
    {
     "output_type": "stream",
     "name": "stdout",
     "text": [
      "Epoch 1/10\n",
      "9/9 - 3s - loss: 0.7380 - accuracy: 0.4444 - val_loss: 2.4632 - val_accuracy: 0.6000 - 3s/epoch - 347ms/step\n",
      "Epoch 2/10\n",
      "9/9 - 2s - loss: 0.7054 - accuracy: 0.3333 - val_loss: 1.9724 - val_accuracy: 0.4000 - 2s/epoch - 189ms/step\n",
      "Epoch 3/10\n",
      "9/9 - 2s - loss: 0.7404 - accuracy: 0.4444 - val_loss: 0.6503 - val_accuracy: 0.6000 - 2s/epoch - 218ms/step\n",
      "Epoch 4/10\n",
      "9/9 - 2s - loss: 0.7097 - accuracy: 0.3333 - val_loss: 0.5480 - val_accuracy: 0.8000 - 2s/epoch - 213ms/step\n",
      "Epoch 5/10\n",
      "9/9 - 2s - loss: 0.7163 - accuracy: 0.4444 - val_loss: 0.3723 - val_accuracy: 0.8000 - 2s/epoch - 185ms/step\n",
      "Epoch 6/10\n",
      "9/9 - 2s - loss: 0.7473 - accuracy: 0.2222 - val_loss: 0.5175 - val_accuracy: 0.6000 - 2s/epoch - 207ms/step\n",
      "Epoch 7/10\n",
      "9/9 - 2s - loss: 0.7115 - accuracy: 0.3333 - val_loss: 0.5353 - val_accuracy: 0.6000 - 2s/epoch - 226ms/step\n",
      "Epoch 8/10\n",
      "9/9 - 2s - loss: 0.7226 - accuracy: 0.3333 - val_loss: 0.3283 - val_accuracy: 0.8000 - 2s/epoch - 227ms/step\n",
      "Epoch 9/10\n",
      "9/9 - 2s - loss: 0.7646 - accuracy: 0.4444 - val_loss: 0.6440 - val_accuracy: 0.6000 - 2s/epoch - 226ms/step\n",
      "Epoch 10/10\n",
      "9/9 - 2s - loss: 0.7071 - accuracy: 0.5556 - val_loss: 0.4896 - val_accuracy: 0.6000 - 2s/epoch - 226ms/step\n"
     ]
    }
   ],
   "metadata": {}
  },
  {
   "cell_type": "code",
   "execution_count": 29,
   "source": [
    "plot_hist(hist)"
   ],
   "outputs": [
    {
     "output_type": "display_data",
     "data": {
      "image/png": "[encoded data removed]",
      "text/plain": [
       "<Figure size 432x288 with 1 Axes>"
      ]
     },
     "metadata": {
      "needs_background": "light"
     }
    }
   ],
   "metadata": {}
  },
  {
   "cell_type": "code",
   "execution_count": 30,
   "source": [
    "def unfreeze_model(model):\r\n",
    "    # We unfreeze the top 20 layers while leaving BatchNorm layers frozen\r\n",
    "    for layer in model.layers[-20:]:\r\n",
    "        if not isinstance(layer, layers.BatchNormalization):\r\n",
    "            layer.trainable = True\r\n",
    "\r\n",
    "    optimizer = tf.keras.optimizers.Adam(learning_rate=1e-4)\r\n",
    "    model.compile(\r\n",
    "        optimizer=optimizer, loss=\"categorical_crossentropy\", metrics=[\"accuracy\"]\r\n",
    "    )\r\n",
    "\r\n",
    "\r\n",
    "unfreeze_model(model)\r\n",
    "\r\n",
    "epochs = 5  # @param {type: \"slider\", min:8, max:50}\r\n",
    "hist = model.fit(train_ds, epochs=epochs, validation_data=test_ds, verbose=2)\r\n",
    "plot_hist(hist)"
   ],
   "outputs": [
    {
     "output_type": "stream",
     "name": "stdout",
     "text": [
      "Epoch 1/5\n",
      "9/9 - 6s - loss: 0.6715 - accuracy: 0.5556 - val_loss: 1.1289 - val_accuracy: 0.2000 - 6s/epoch - 651ms/step\n",
      "Epoch 2/5\n",
      "9/9 - 5s - loss: 0.6711 - accuracy: 0.5556 - val_loss: 1.1891 - val_accuracy: 0.4000 - 5s/epoch - 577ms/step\n",
      "Epoch 3/5\n",
      "9/9 - 5s - loss: 0.7018 - accuracy: 0.5556 - val_loss: 0.4253 - val_accuracy: 0.6000 - 5s/epoch - 610ms/step\n",
      "Epoch 4/5\n",
      "9/9 - 5s - loss: 0.7808 - accuracy: 0.3333 - val_loss: 0.8762 - val_accuracy: 0.8000 - 5s/epoch - 608ms/step\n",
      "Epoch 5/5\n",
      "9/9 - 5s - loss: 0.7049 - accuracy: 0.5556 - val_loss: 0.4019 - val_accuracy: 1.0000 - 5s/epoch - 582ms/step\n"
     ]
    },
    {
     "output_type": "display_data",
     "data": {
      "image/png": "[encoded data removed]",
      "text/plain": [
       "<Figure size 432x288 with 1 Axes>"
      ]
     },
     "metadata": {
      "needs_background": "light"
     }
    }
   ],
   "metadata": {}
  },
  {
   "cell_type": "code",
   "execution_count": 42,
   "source": [
    "size = (224, 224)\r\n",
    "\r\n",
    "def _parse_image(filename):\r\n",
    "    img = tf.io.read_file(filename)\r\n",
    "    img = tf.image.decode_bmp(img, channels = 3)\r\n",
    "    img = tf.image.resize(img, size)\r\n",
    "    img = tf.expand_dims(img, 0)\r\n",
    "    return img\r\n",
    "\r\n",
    "try_image_path =  \r\n",
    "# try_image_path =  \r\n",
    "\r\n",
    "try_image = _parse_image(try_image_path)"
   ],
   "outputs": [],
   "metadata": {}
  },
  {
   "cell_type": "code",
   "execution_count": 43,
   "source": [
    "result = model.predict(try_image)\r\n",
    "np.argmax(result) +1"
   ],
   "outputs": [
    {
     "output_type": "execute_result",
     "data": {
      "text/plain": [
       "2"
      ]
     },
     "metadata": {},
     "execution_count": 43
    }
   ],
   "metadata": {}
  },
  {
   "cell_type": "code",
   "execution_count": 44,
   "source": [
    "result"
   ],
   "outputs": [
    {
     "output_type": "execute_result",
     "data": {
      "text/plain": [
       "array([[0.2592663 , 0.74073374]], dtype=float32)"
      ]
     },
     "metadata": {},
     "execution_count": 44
    }
   ],
   "metadata": {}
  },
  {
   "cell_type": "code",
   "execution_count": 16,
   "source": [
    "# model.save('raw_complete')"
   ],
   "outputs": [],
   "metadata": {}
  },
  {
   "cell_type": "code",
   "execution_count": 17,
   "source": [
    "model.save('normal_complete')"
   ],
   "outputs": [
    {
     "output_type": "stream",
     "name": "stdout",
     "text": [
      "INFO:tensorflow:Assets written to: normal_complete\\assets\n"
     ]
    }
   ],
   "metadata": {}
  },
  {
   "cell_type": "code",
   "execution_count": 18,
   "source": [
    "# import tensorflow_datasets as tfds\r\n",
    "\r\n",
    "# batch_size = 64\r\n",
    "\r\n",
    "# dataset_name = \"stanford_dogs\"\r\n",
    "# (ds_train, ds_test), ds_info = tfds.load(\r\n",
    "#     dataset_name, split=[\"train\", \"test\"], with_info=True, as_supervised=True\r\n",
    "# )\r\n",
    "# NUM_CLASSES = ds_info.features[\"label\"].num_classes"
   ],
   "outputs": [],
   "metadata": {}
  },
  {
   "cell_type": "code",
   "execution_count": 19,
   "source": [
    "# IMG_SIZE = 224\r\n",
    "\r\n",
    "# size = (IMG_SIZE, IMG_SIZE)\r\n",
    "# ds_train = ds_train.map(lambda image, label: (tf.image.resize(image, size), label))\r\n",
    "# ds_test = ds_test.map(lambda image, label: (tf.image.resize(image, size), label))"
   ],
   "outputs": [],
   "metadata": {}
  },
  {
   "cell_type": "code",
   "execution_count": 20,
   "source": [
    "# # One-hot / categorical encoding\r\n",
    "# def input_preprocess(image, label):\r\n",
    "#     label = tf.one_hot(label, NUM_CLASSES)\r\n",
    "#     return image, label\r\n",
    "\r\n",
    "\r\n",
    "# ds_train = ds_train.map(\r\n",
    "#     input_preprocess, num_parallel_calls=tf.data.AUTOTUNE\r\n",
    "# )\r\n",
    "# ds_train = ds_train.batch(batch_size=batch_size, drop_remainder=True)\r\n",
    "# ds_train = ds_train.prefetch(tf.data.AUTOTUNE)\r\n",
    "\r\n",
    "# ds_test = ds_test.map(input_preprocess)\r\n",
    "# ds_test = ds_test.batch(batch_size=batch_size, drop_remainder=True)"
   ],
   "outputs": [],
   "metadata": {}
  },
  {
   "cell_type": "code",
   "execution_count": 21,
   "source": [
    "# x = 0\r\n",
    "# for i, a in ds_test:\r\n",
    "#     if x < 1:\r\n",
    "#         print(a.numpy()==1) \r\n",
    "#         print(\"-----\")\r\n",
    "#         x +=1\r\n",
    "#     else:\r\n",
    "#         break"
   ],
   "outputs": [],
   "metadata": {}
  },
  {
   "cell_type": "code",
   "execution_count": 22,
   "source": [
    "# from tensorflow.keras.applications import EfficientNetB0\r\n",
    "# from tensorflow.keras import layers\r\n",
    "\r\n",
    "\r\n",
    "# inputs = layers.Input(shape=(IMG_SIZE, IMG_SIZE, 3))\r\n",
    "# outputs = EfficientNetB0(include_top=True, weights=None, classes=NUM_CLASSES)(inputs)\r\n",
    "\r\n",
    "# model = tf.keras.Model(inputs, outputs)\r\n",
    "# model.compile(\r\n",
    "#         optimizer=\"adam\", loss=\"categorical_crossentropy\", metrics=[\"accuracy\"]\r\n",
    "#     )\r\n",
    "\r\n",
    "# model.summary()\r\n",
    "\r\n",
    "# epochs = 1  # @param {type: \"slider\", min:10, max:100}\r\n",
    "# hist = model.fit(ds_train, epochs=epochs, validation_data=ds_test, verbose=2)"
   ],
   "outputs": [],
   "metadata": {}
  }
 ],
 "metadata": {
  "orig_nbformat": 4,
  "language_info": {
   "name": "python",
   "version": "3.7.0",
   "mimetype": "text/x-python",
   "codemirror_mode": {
    "name": "ipython",
    "version": 3
   },
   "pygments_lexer": "ipython3",
   "nbconvert_exporter": "python",
   "file_extension": ".py"
  },
  "kernelspec": {
   "name": "python3",
   "display_name": "Python 3.7.0 64-bit (system)"
  },
  "interpreter": {
   "hash": "0600588c3b5f4418cbe7b5ebc6825b479f3bc010269d8b60d75058cdd010adfe"
  }
 },
 "nbformat": 4,
 "nbformat_minor": 2
}
