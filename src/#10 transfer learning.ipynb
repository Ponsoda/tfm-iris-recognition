{
 "cells": [
  {
   "cell_type": "code",
   "execution_count": null,
   "source": [
    "# https://www.kaggle.com/kutaykutlu/resnet50-transfer-learning-cifar-10-beginner\r\n",
    "\r\n",
    "# https://keras.io/examples/vision/image_classification_efficientnet_fine_tuning/"
   ],
   "outputs": [],
   "metadata": {}
  },
  {
   "cell_type": "code",
   "execution_count": 84,
   "source": [
    "from keras.applications.vgg16 import VGG16\r\n",
    "from tensorflow import keras"
   ],
   "outputs": [],
   "metadata": {}
  },
  {
   "cell_type": "code",
   "execution_count": 85,
   "source": [
    "model = VGG16(weights='imagenet')"
   ],
   "outputs": [],
   "metadata": {}
  },
  {
   "cell_type": "code",
   "execution_count": 86,
   "source": [
    "base_model = keras.applications.Xception(\r\n",
    "    weights=\"imagenet\",  # Load weights pre-trained on ImageNet.\r\n",
    "    input_shape=(224, 224, 3),\r\n",
    "    include_top=False,\r\n",
    ")  # Do not include the ImageNet classifier at the top.\r\n",
    "\r\n",
    "# Freeze the base_model\r\n",
    "base_model.trainable = False\r\n",
    "\r\n",
    "# Create new model on top\r\n",
    "inputs = keras.Input(shape=(224, 224, 3))\r\n",
    "\r\n",
    "outputs = VGG16(include_top=True, weights=None, classes=2)(inputs)\r\n",
    "model = keras.Model(inputs, outputs)\r\n",
    "\r\n",
    "model.compile(\r\n",
    "        optimizer=\"adam\", loss=\"categorical_crossentropy\", metrics=[\"accuracy\"]\r\n",
    "    )"
   ],
   "outputs": [],
   "metadata": {}
  },
  {
   "cell_type": "code",
   "execution_count": 87,
   "source": [
    "import tensorflow as tf\r\n",
    "import numpy as np\r\n",
    "import pathlib\r\n",
    "\r\n",
    "# step 1\r\n",
    "IMAGE_PATHS_DIR = r\"C:\\Users\\na-ch\\Desktop\\estudio\\Master_Big_Data\\03_TFM\\02_Code\\dataset_test\\CASIA_IrisV1_unif\"\r\n",
    "# IMAGE_PATHS_DIR = r\"C:\\Users\\na-ch\\Desktop\\estudio\\Master_Big_Data\\03_TFM\\04_GitHub_Master\\iris_classifier-master\\notebooks\\old\\CASIA_v1\"\r\n",
    "paths = np.array([x.__str__() for x in pathlib.Path(IMAGE_PATHS_DIR).rglob('*.bmp')])\r\n",
    "filenames = tf.constant(paths)\r\n",
    "\r\n",
    "labels_array = np.array([x.split(\"\\\\\")[-1].split(\"_\")[0] for x in paths])\r\n",
    "labels = tf.constant(labels_array)\r\n",
    "\r\n",
    "n_clases = np.max([int(i) for i in labels_array])\r\n",
    "\r\n",
    "# step 2: create a dataset returning slices of `filenames`\r\n",
    "dataset = tf.data.Dataset.from_tensor_slices((filenames, labels))\r\n",
    "\r\n",
    "def _parse_function(filename, label):\r\n",
    "    img = tf.io.read_file(filename)\r\n",
    "    image = tf.image.decode_bmp(img, channels = 3)\r\n",
    "    label = tf.one_hot(int(label), n_clases) \r\n",
    "    return image, label\r\n",
    "\r\n",
    "dataset_map = dataset.map(_parse_function)\r\n",
    "\r\n",
    "dataset_map = dataset_map.shuffle(10)\r\n",
    "\r\n",
    "dataset_len = len(dataset_map)\r\n",
    "\r\n",
    "train_size = int(0.7 * dataset_len)\r\n",
    "val_size = int(0.15 * dataset_len)\r\n",
    "test_size = int(0.15 * dataset_len)\r\n",
    "\r\n",
    "train_ds = dataset_map.take(train_size)\r\n",
    "test_ds = dataset_map.skip(train_size)\r\n",
    "validation_ds = test_ds.skip(val_size)\r\n",
    "test_ds = test_ds.skip(test_size)\r\n",
    "\r\n",
    "size = (224, 224)\r\n",
    "\r\n",
    "train_ds = train_ds.map(lambda x, y: (tf.image.resize(x, size), y))\r\n",
    "validation_ds = validation_ds.map(lambda x, y: (tf.image.resize(x, size), y))\r\n",
    "test_ds = test_ds.map(lambda x, y: (tf.image.resize(x, size), y))\r\n",
    "\r\n",
    "batch_size = 32\r\n",
    "\r\n",
    "train_ds = train_ds.cache().batch(batch_size).prefetch(buffer_size=10)\r\n",
    "validation_ds = validation_ds.cache().batch(batch_size).prefetch(buffer_size=10)\r\n",
    "test_ds = test_ds.cache().batch(batch_size).prefetch(buffer_size=10)\r\n",
    "\r\n"
   ],
   "outputs": [],
   "metadata": {}
  },
  {
   "cell_type": "code",
   "execution_count": 88,
   "source": [
    "epochs = 5  # @param {type: \"slider\", min:10, max:100}\r\n",
    "hist = model.fit(train_ds, epochs=epochs, validation_data=test_ds, verbose=2)"
   ],
   "outputs": [
    {
     "output_type": "stream",
     "name": "stdout",
     "text": [
      "Epoch 1/5\n",
      "1/1 - 40s - loss: 0.3790 - accuracy: 0.5556 - val_loss: 0.0000e+00 - val_accuracy: 0.3333 - 40s/epoch - 40s/step\n",
      "Epoch 2/5\n",
      "1/1 - 7s - loss: 0.0000e+00 - accuracy: 0.4444 - val_loss: 0.0000e+00 - val_accuracy: 0.3333 - 7s/epoch - 7s/step\n",
      "Epoch 3/5\n",
      "1/1 - 6s - loss: 0.0000e+00 - accuracy: 0.4444 - val_loss: 129355304.0000 - val_accuracy: 0.6667 - 6s/epoch - 6s/step\n",
      "Epoch 4/5\n",
      "1/1 - 6s - loss: 177687824.0000 - accuracy: 0.5556 - val_loss: 0.0000e+00 - val_accuracy: 0.3333 - 6s/epoch - 6s/step\n",
      "Epoch 5/5\n",
      "1/1 - 6s - loss: 0.0000e+00 - accuracy: 0.4444 - val_loss: 0.0000e+00 - val_accuracy: 0.3333 - 6s/epoch - 6s/step\n"
     ]
    }
   ],
   "metadata": {}
  },
  {
   "cell_type": "code",
   "execution_count": 89,
   "source": [
    "import matplotlib.pyplot as plt\r\n",
    "\r\n",
    "\r\n",
    "def plot_hist(hist):\r\n",
    "    plt.plot(hist.history[\"accuracy\"])\r\n",
    "    plt.plot(hist.history[\"val_accuracy\"])\r\n",
    "    plt.title(\"model accuracy\")\r\n",
    "    plt.ylabel(\"accuracy\")\r\n",
    "    plt.xlabel(\"epoch\")\r\n",
    "    plt.legend([\"train\", \"validation\"], loc=\"upper left\")\r\n",
    "    plt.show()\r\n",
    "\r\n",
    "\r\n",
    "plot_hist(hist)"
   ],
   "outputs": [
    {
     "output_type": "display_data",
     "data": {
      "image/png": "[encoded data removed]",
      "text/plain": [
       "<Figure size 432x288 with 1 Axes>"
      ]
     },
     "metadata": {
      "needs_background": "light"
     }
    }
   ],
   "metadata": {}
  },
  {
   "cell_type": "code",
   "execution_count": 90,
   "source": [
    "from tensorflow.keras.models import Sequential\r\n",
    "from tensorflow.keras import layers\r\n",
    "\r\n",
    "img_augmentation = Sequential(\r\n",
    "    [\r\n",
    "        layers.RandomRotation(factor=0.15),\r\n",
    "        layers.RandomTranslation(height_factor=0.1, width_factor=0.1),\r\n",
    "        layers.RandomFlip(),\r\n",
    "        layers.RandomContrast(factor=0.1),\r\n",
    "    ],\r\n",
    "    name=\"img_augmentation\",\r\n",
    ")"
   ],
   "outputs": [],
   "metadata": {}
  },
  {
   "cell_type": "code",
   "execution_count": 95,
   "source": [
    "from tensorflow.keras import layers\r\n",
    "\r\n",
    "\r\n",
    "def build_model(num_classes):\r\n",
    "    inputs = layers.Input(shape=(224, 224, 3))\r\n",
    "    x = img_augmentation(inputs)\r\n",
    "    model = VGG16(include_top=False, input_tensor=inputs, weights=\"imagenet\")\r\n",
    "\r\n",
    "    # Freeze the pretrained weights\r\n",
    "    model.trainable = False\r\n",
    "\r\n",
    "    # Rebuild top\r\n",
    "    x = layers.GlobalAveragePooling2D(name=\"avg_pool\")(model.output)\r\n",
    "    x = layers.BatchNormalization()(x)\r\n",
    "\r\n",
    "    top_dropout_rate = 0.2\r\n",
    "    x = layers.Dropout(top_dropout_rate, name=\"top_dropout\")(x)\r\n",
    "    outputs = layers.Dense(num_classes, activation=\"softmax\", name=\"pred\")(x)\r\n",
    "\r\n",
    "    # Compile\r\n",
    "    model = keras.Model(inputs, outputs)\r\n",
    "    optimizer = keras.optimizers.Adam(learning_rate=1e-2)\r\n",
    "    model.compile(\r\n",
    "        optimizer=optimizer, loss=\"categorical_crossentropy\", metrics=[\"accuracy\"]\r\n",
    "    )\r\n",
    "    return model"
   ],
   "outputs": [],
   "metadata": {}
  },
  {
   "cell_type": "code",
   "execution_count": 96,
   "source": [
    "model = build_model(num_classes=n_clases)\r\n",
    "\r\n",
    "epochs = 10  # @param {type: \"slider\", min:8, max:80}\r\n",
    "hist = model.fit(train_ds, epochs=epochs, validation_data=test_ds, verbose=2)\r\n"
   ],
   "outputs": [
    {
     "output_type": "stream",
     "name": "stdout",
     "text": [
      "Epoch 1/10\n",
      "1/1 - 3s - loss: 0.5986 - accuracy: 0.3333 - val_loss: 0.0000e+00 - val_accuracy: 0.3333 - 3s/epoch - 3s/step\n",
      "Epoch 2/10\n",
      "1/1 - 2s - loss: 0.0137 - accuracy: 1.0000 - val_loss: 0.0000e+00 - val_accuracy: 0.3333 - 2s/epoch - 2s/step\n",
      "Epoch 3/10\n",
      "1/1 - 2s - loss: 0.0066 - accuracy: 1.0000 - val_loss: 0.0000e+00 - val_accuracy: 0.3333 - 2s/epoch - 2s/step\n",
      "Epoch 4/10\n",
      "1/1 - 2s - loss: 0.0069 - accuracy: 0.8889 - val_loss: 0.0000e+00 - val_accuracy: 0.3333 - 2s/epoch - 2s/step\n",
      "Epoch 5/10\n",
      "1/1 - 2s - loss: 0.0079 - accuracy: 0.8889 - val_loss: 3.9736e-08 - val_accuracy: 0.3333 - 2s/epoch - 2s/step\n",
      "Epoch 6/10\n",
      "1/1 - 2s - loss: 0.0332 - accuracy: 1.0000 - val_loss: 7.9473e-08 - val_accuracy: 0.3333 - 2s/epoch - 2s/step\n",
      "Epoch 7/10\n",
      "1/1 - 2s - loss: 0.0281 - accuracy: 1.0000 - val_loss: 1.5895e-07 - val_accuracy: 0.3333 - 2s/epoch - 2s/step\n",
      "Epoch 8/10\n",
      "1/1 - 2s - loss: 0.0301 - accuracy: 0.5556 - val_loss: 3.1789e-07 - val_accuracy: 0.3333 - 2s/epoch - 2s/step\n",
      "Epoch 9/10\n",
      "1/1 - 2s - loss: 0.0141 - accuracy: 0.5556 - val_loss: 5.5631e-07 - val_accuracy: 0.3333 - 2s/epoch - 2s/step\n",
      "Epoch 10/10\n",
      "1/1 - 2s - loss: 0.0103 - accuracy: 0.6667 - val_loss: 7.9473e-07 - val_accuracy: 0.3333 - 2s/epoch - 2s/step\n"
     ]
    }
   ],
   "metadata": {}
  },
  {
   "cell_type": "code",
   "execution_count": 97,
   "source": [
    "plot_hist(hist)"
   ],
   "outputs": [
    {
     "output_type": "display_data",
     "data": {
      "image/png": "[encoded data removed]",
      "text/plain": [
       "<Figure size 432x288 with 1 Axes>"
      ]
     },
     "metadata": {
      "needs_background": "light"
     }
    }
   ],
   "metadata": {}
  },
  {
   "cell_type": "code",
   "execution_count": 98,
   "source": [
    "def unfreeze_model(model):\r\n",
    "    # We unfreeze the top 20 layers while leaving BatchNorm layers frozen\r\n",
    "    for layer in model.layers[-20:]:\r\n",
    "        if not isinstance(layer, layers.BatchNormalization):\r\n",
    "            layer.trainable = True\r\n",
    "\r\n",
    "    optimizer = tf.keras.optimizers.Adam(learning_rate=1e-4)\r\n",
    "    model.compile(\r\n",
    "        optimizer=optimizer, loss=\"categorical_crossentropy\", metrics=[\"accuracy\"]\r\n",
    "    )\r\n",
    "\r\n",
    "\r\n",
    "unfreeze_model(model)\r\n",
    "\r\n",
    "epochs = 5  # @param {type: \"slider\", min:8, max:50}\r\n",
    "hist = model.fit(train_ds, epochs=epochs, validation_data=test_ds, verbose=2)\r\n",
    "plot_hist(hist)"
   ],
   "outputs": [
    {
     "output_type": "stream",
     "name": "stdout",
     "text": [
      "Epoch 1/5\n",
      "1/1 - 5s - loss: 0.0236 - accuracy: 0.5556 - val_loss: 0.0000e+00 - val_accuracy: 1.0000 - 5s/epoch - 5s/step\n",
      "Epoch 2/5\n",
      "1/1 - 4s - loss: 0.0051 - accuracy: 0.8889 - val_loss: 4.5892e-05 - val_accuracy: 0.3333 - 4s/epoch - 4s/step\n",
      "Epoch 3/5\n",
      "1/1 - 5s - loss: 0.1811 - accuracy: 0.3333 - val_loss: 3.9736e-08 - val_accuracy: 0.3333 - 5s/epoch - 5s/step\n",
      "Epoch 4/5\n",
      "1/1 - 4s - loss: 0.0091 - accuracy: 0.6667 - val_loss: 0.0000e+00 - val_accuracy: 0.3333 - 4s/epoch - 4s/step\n",
      "Epoch 5/5\n",
      "1/1 - 4s - loss: 0.0055 - accuracy: 0.6667 - val_loss: 0.0000e+00 - val_accuracy: 0.3333 - 4s/epoch - 4s/step\n"
     ]
    },
    {
     "output_type": "display_data",
     "data": {
      "image/png": "[encoded data removed]",
      "text/plain": [
       "<Figure size 432x288 with 1 Axes>"
      ]
     },
     "metadata": {
      "needs_background": "light"
     }
    }
   ],
   "metadata": {}
  },
  {
   "cell_type": "code",
   "execution_count": 107,
   "source": [
    "size = (224, 224)\r\n",
    "\r\n",
    "def _parse_image(filename):\r\n",
    "    img = tf.io.read_file(filename)\r\n",
    "    img = tf.image.decode_bmp(img, channels = 3)\r\n",
    "    img = tf.image.resize(img, size)\r\n",
    "    img = tf.expand_dims(img, 0)\r\n",
    "    return img\r\n",
    "\r\n",
    "try_image_path =  r\"C:\\Users\\na-ch\\Desktop\\estudio\\Master_Big_Data\\03_TFM\\02_Code\\dataset_test\\CASIA_IrisV1_unif\\001_2_2.bmp\"\r\n",
    "try_image = _parse_image(try_image_path)"
   ],
   "outputs": [],
   "metadata": {}
  },
  {
   "cell_type": "code",
   "execution_count": 108,
   "source": [
    "result = model.predict(try_image)\r\n",
    "np.argmax(result)"
   ],
   "outputs": [
    {
     "output_type": "execute_result",
     "data": {
      "text/plain": [
       "1"
      ]
     },
     "metadata": {},
     "execution_count": 108
    }
   ],
   "metadata": {}
  },
  {
   "cell_type": "code",
   "execution_count": 109,
   "source": [
    "result"
   ],
   "outputs": [
    {
     "output_type": "execute_result",
     "data": {
      "text/plain": [
       "array([[6.3568118e-12, 1.0000000e+00]], dtype=float32)"
      ]
     },
     "metadata": {},
     "execution_count": 109
    }
   ],
   "metadata": {}
  },
  {
   "cell_type": "code",
   "execution_count": null,
   "source": [],
   "outputs": [],
   "metadata": {}
  },
  {
   "cell_type": "code",
   "execution_count": null,
   "source": [],
   "outputs": [],
   "metadata": {}
  },
  {
   "cell_type": "code",
   "execution_count": null,
   "source": [],
   "outputs": [],
   "metadata": {}
  },
  {
   "cell_type": "code",
   "execution_count": 36,
   "source": [
    "import tensorflow_datasets as tfds\r\n",
    "\r\n",
    "batch_size = 64\r\n",
    "\r\n",
    "dataset_name = \"stanford_dogs\"\r\n",
    "(ds_train, ds_test), ds_info = tfds.load(\r\n",
    "    dataset_name, split=[\"train\", \"test\"], with_info=True, as_supervised=True\r\n",
    ")\r\n",
    "NUM_CLASSES = ds_info.features[\"label\"].num_classes"
   ],
   "outputs": [
    {
     "output_type": "stream",
     "name": "stdout",
     "text": [
      "\u001b[1mDownloading and preparing dataset Unknown size (download: Unknown size, generated: Unknown size, total: Unknown size) to C:\\Users\\Ignacio\\tensorflow_datasets\\stanford_dogs\\0.2.0...\u001b[0m\n"
     ]
    },
    {
     "output_type": "stream",
     "name": "stderr",
     "text": [
      "Dl Size...: 100%|██████████| 756/756 [01:36<00:00,  7.81 MiB/s]\n",
      "Dl Completed...: 100%|██████████| 1/1 [01:36<00:00, 96.85s/ url]\n",
      "Dl Completed...: 0 url [00:00, ? url/s]\n",
      "Dl Completed...:   0%|          | 0/1 [00:00<?, ? url/s]\n",
      "Dl Completed...:   0%|          | 0/2 [00:00<?, ? url/s]\n",
      "Dl Completed...:   0%|          | 0/2 [00:00<?, ? url/s]\n",
      "Dl Completed...:   0%|          | 0/2 [00:00<?, ? url/s]\n",
      "Dl Completed...:   0%|          | 0/2 [00:02<?, ? url/s]\n",
      "Dl Completed...:  50%|█████     | 1/2 [00:03<00:03,  3.02s/ url]\n",
      "Dl Completed...:  50%|█████     | 1/2 [00:03<00:03,  3.02s/ url]\n",
      "\u001b[A\n",
      "Dl Completed...:  50%|█████     | 1/2 [00:03<00:03,  3.02s/ url]\n",
      "Dl Completed...:  50%|█████     | 1/2 [00:03<00:03,  3.02s/ url]\n",
      "Dl Completed...:  50%|█████     | 1/2 [00:03<00:03,  3.02s/ url]\n",
      "Dl Completed...:  50%|█████     | 1/2 [00:04<00:03,  3.02s/ url]\n",
      "Dl Completed...:  50%|█████     | 1/2 [00:04<00:03,  3.02s/ url]\n",
      "Dl Completed...:  50%|█████     | 1/2 [00:04<00:03,  3.02s/ url]\n",
      "Dl Completed...:  50%|█████     | 1/2 [00:04<00:03,  3.02s/ url]\n",
      "Dl Completed...:  50%|█████     | 1/2 [00:04<00:03,  3.02s/ url]\n",
      "Dl Completed...:  50%|█████     | 1/2 [00:04<00:03,  3.02s/ url]\n",
      "Dl Completed...:  50%|█████     | 1/2 [00:05<00:03,  3.02s/ url]\n",
      "Dl Completed...:  50%|█████     | 1/2 [00:05<00:03,  3.02s/ url]\n",
      "Dl Completed...:  50%|█████     | 1/2 [00:05<00:03,  3.02s/ url]\n",
      "Dl Completed...:  50%|█████     | 1/2 [00:05<00:03,  3.02s/ url]\n",
      "Dl Completed...:  50%|█████     | 1/2 [00:05<00:03,  3.02s/ url]\n",
      "Dl Completed...:  50%|█████     | 1/2 [00:05<00:03,  3.02s/ url]\n",
      "Dl Completed...:  50%|█████     | 1/2 [00:05<00:03,  3.02s/ url]\n",
      "Dl Completed...:  50%|█████     | 1/2 [00:05<00:03,  3.02s/ url]\n",
      "Dl Completed...:  50%|█████     | 1/2 [00:05<00:03,  3.02s/ url]\n",
      "Dl Completed...:  50%|█████     | 1/2 [00:06<00:03,  3.02s/ url]\n",
      "Dl Completed...:  50%|█████     | 1/2 [00:06<00:03,  3.02s/ url]\n",
      "Dl Completed...: 100%|██████████| 2/2 [00:07<00:00,  3.45s/ url]\n",
      "Dl Completed...: 100%|██████████| 2/2 [00:07<00:00,  3.45s/ url]\n",
      "\u001b[A\n",
      "Dl Completed...: 100%|██████████| 2/2 [23:34<00:00,  3.45s/ url]\n",
      "Extraction completed...: 100%|██████████| 2/2 [23:34<00:00, 707.10s/ file]\n",
      "Dl Size...: 100%|██████████| 20/20 [23:34<00:00, 70.71s/ MiB]\n",
      "Dl Completed...: 100%|██████████| 2/2 [23:34<00:00, 707.12s/ url]\n"
     ]
    },
    {
     "output_type": "stream",
     "name": "stdout",
     "text": [
      "\u001b[1mDataset stanford_dogs downloaded and prepared to C:\\Users\\Ignacio\\tensorflow_datasets\\stanford_dogs\\0.2.0. Subsequent calls will reuse this data.\u001b[0m\n"
     ]
    }
   ],
   "metadata": {}
  },
  {
   "cell_type": "code",
   "execution_count": 37,
   "source": [
    "IMG_SIZE = 224\r\n",
    "\r\n",
    "size = (IMG_SIZE, IMG_SIZE)\r\n",
    "ds_train = ds_train.map(lambda image, label: (tf.image.resize(image, size), label))\r\n",
    "ds_test = ds_test.map(lambda image, label: (tf.image.resize(image, size), label))"
   ],
   "outputs": [],
   "metadata": {}
  },
  {
   "cell_type": "code",
   "execution_count": 38,
   "source": [
    "# One-hot / categorical encoding\r\n",
    "def input_preprocess(image, label):\r\n",
    "    label = tf.one_hot(label, NUM_CLASSES)\r\n",
    "    return image, label\r\n",
    "\r\n",
    "\r\n",
    "ds_train = ds_train.map(\r\n",
    "    input_preprocess, num_parallel_calls=tf.data.AUTOTUNE\r\n",
    ")\r\n",
    "ds_train = ds_train.batch(batch_size=batch_size, drop_remainder=True)\r\n",
    "ds_train = ds_train.prefetch(tf.data.AUTOTUNE)\r\n",
    "\r\n",
    "ds_test = ds_test.map(input_preprocess)\r\n",
    "ds_test = ds_test.batch(batch_size=batch_size, drop_remainder=True)"
   ],
   "outputs": [],
   "metadata": {}
  },
  {
   "cell_type": "code",
   "execution_count": 51,
   "source": [
    "x = 0\r\n",
    "for i, a in ds_test:\r\n",
    "    if x < 1:\r\n",
    "        print(a.numpy()==1) \r\n",
    "        print(\"-----\")\r\n",
    "        x +=1\r\n",
    "    else:\r\n",
    "        break"
   ],
   "outputs": [
    {
     "output_type": "stream",
     "name": "stdout",
     "text": [
      "[[False False False ... False False False]\n",
      " [False False False ... False False False]\n",
      " [False False False ... False False False]\n",
      " ...\n",
      " [False False False ... False False False]\n",
      " [False False False ... False False False]\n",
      " [False False False ... False False False]]\n",
      "-----\n"
     ]
    }
   ],
   "metadata": {}
  },
  {
   "cell_type": "code",
   "execution_count": 39,
   "source": [
    "from tensorflow.keras.applications import EfficientNetB0\r\n",
    "from tensorflow.keras import layers\r\n",
    "\r\n",
    "\r\n",
    "inputs = layers.Input(shape=(IMG_SIZE, IMG_SIZE, 3))\r\n",
    "outputs = EfficientNetB0(include_top=True, weights=None, classes=NUM_CLASSES)(inputs)\r\n",
    "\r\n",
    "model = tf.keras.Model(inputs, outputs)\r\n",
    "model.compile(\r\n",
    "        optimizer=\"adam\", loss=\"categorical_crossentropy\", metrics=[\"accuracy\"]\r\n",
    "    )\r\n",
    "\r\n",
    "model.summary()\r\n",
    "\r\n",
    "epochs = 1  # @param {type: \"slider\", min:10, max:100}\r\n",
    "hist = model.fit(ds_train, epochs=epochs, validation_data=ds_test, verbose=2)"
   ],
   "outputs": [
    {
     "output_type": "stream",
     "name": "stdout",
     "text": [
      "Model: \"model_2\"\n",
      "_________________________________________________________________\n",
      " Layer (type)                Output Shape              Param #   \n",
      "=================================================================\n",
      " input_21 (InputLayer)       [(None, 224, 224, 3)]     0         \n",
      "                                                                 \n",
      " efficientnetb0 (Functional)  (None, 120)              4203291   \n",
      "                                                                 \n",
      "=================================================================\n",
      "Total params: 4,203,291\n",
      "Trainable params: 4,161,268\n",
      "Non-trainable params: 42,023\n",
      "_________________________________________________________________\n",
      "187/187 - 2164s - loss: 4.9647 - accuracy: 0.0119 - val_loss: 5.2710 - val_accuracy: 0.0139 - 2164s/epoch - 12s/step\n"
     ]
    }
   ],
   "metadata": {}
  }
 ],
 "metadata": {
  "orig_nbformat": 4,
  "language_info": {
   "name": "python",
   "version": "3.7.0",
   "mimetype": "text/x-python",
   "codemirror_mode": {
    "name": "ipython",
    "version": 3
   },
   "pygments_lexer": "ipython3",
   "nbconvert_exporter": "python",
   "file_extension": ".py"
  },
  "kernelspec": {
   "name": "python3",
   "display_name": "Python 3.7.0 64-bit"
  },
  "interpreter": {
   "hash": "0600588c3b5f4418cbe7b5ebc6825b479f3bc010269d8b60d75058cdd010adfe"
  }
 },
 "nbformat": 4,
 "nbformat_minor": 2
}