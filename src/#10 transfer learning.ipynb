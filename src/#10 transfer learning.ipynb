{
 "cells": [
  {
   "cell_type": "code",
   "execution_count": 1,
   "source": [
    "# https://www.kaggle.com/kutaykutlu/resnet50-transfer-learning-cifar-10-beginner\r\n",
    "\r\n",
    "# https://keras.io/examples/vision/image_classification_efficientnet_fine_tuning/"
   ],
   "outputs": [],
   "metadata": {}
  },
  {
   "cell_type": "code",
   "execution_count": 2,
   "source": [
    "from keras.applications.vgg16 import VGG16\r\n",
    "from tensorflow import keras"
   ],
   "outputs": [],
   "metadata": {}
  },
  {
   "cell_type": "code",
   "execution_count": 3,
   "source": [
    "model = VGG16(weights='imagenet')"
   ],
   "outputs": [],
   "metadata": {}
  },
  {
   "cell_type": "code",
   "execution_count": 4,
   "source": [
    "import tensorflow as tf\r\n",
    "import numpy as np\r\n",
    "import pathlib\r\n",
    "\r\n",
    "# step 1\r\n",
    "# IMAGE_PATHS_DIR = r\"C:\\Users\\na-ch\\Desktop\\estudio\\Master_Big_Data\\03_TFM\\02_Code\\dataset_test\\CASIA_IrisV1_unif_segv2_edg_norm\"\r\n",
    "IMAGE_PATHS_DIR = r\"C:\\Users\\na-ch\\Desktop\\estudio\\Master_Big_Data\\03_TFM\\04_GitHub_Master\\iris_classifier-master\\notebooks\\old\\CASIA-IrisV1_unif_segv2_edg_norm\"\r\n",
    "paths = np.array([x.__str__() for x in pathlib.Path(IMAGE_PATHS_DIR).rglob('*.bmp')])\r\n",
    "filenames = tf.constant(paths)\r\n",
    "\r\n",
    "labels_array = np.array([x.split(\"\\\\\")[-1].split(\"_\")[0] for x in paths])\r\n",
    "labels = tf.constant(labels_array)\r\n",
    "\r\n",
    "n_clases = np.max([int(i) for i in labels_array])\r\n",
    "\r\n",
    "# step 2: create a dataset returning slices of `filenames`\r\n",
    "dataset = tf.data.Dataset.from_tensor_slices((filenames, labels))\r\n",
    "\r\n",
    "def _parse_function(filename, label):\r\n",
    "    img = tf.io.read_file(filename)\r\n",
    "    image = tf.image.decode_bmp(img, channels = 3)\r\n",
    "    label = tf.one_hot(int(label), n_clases) \r\n",
    "    return image, label\r\n",
    "\r\n",
    "dataset_map = dataset.map(_parse_function)\r\n",
    "\r\n",
    "dataset_map = dataset_map.shuffle(10)\r\n",
    "\r\n",
    "dataset_len = len(dataset_map)\r\n",
    "\r\n",
    "train_size = int(0.7 * dataset_len)\r\n",
    "val_size = int(0.15 * dataset_len)\r\n",
    "test_size = int(0.15 * dataset_len)\r\n",
    "\r\n",
    "train_ds = dataset_map.take(train_size)\r\n",
    "test_ds = dataset_map.skip(train_size)\r\n",
    "validation_ds = test_ds.skip(val_size)\r\n",
    "test_ds = test_ds.skip(test_size)\r\n",
    "\r\n",
    "size = (224, 224)\r\n",
    "\r\n",
    "train_ds = train_ds.map(lambda x, y: (tf.image.resize(x, size), y))\r\n",
    "validation_ds = validation_ds.map(lambda x, y: (tf.image.resize(x, size), y))\r\n",
    "test_ds = test_ds.map(lambda x, y: (tf.image.resize(x, size), y))\r\n",
    "\r\n",
    "batch_size = 32\r\n",
    "\r\n",
    "train_ds = train_ds.cache().batch(batch_size).prefetch(buffer_size=10)\r\n",
    "validation_ds = validation_ds.cache().batch(batch_size).prefetch(buffer_size=10)\r\n",
    "test_ds = test_ds.cache().batch(batch_size).prefetch(buffer_size=10)\r\n",
    "\r\n"
   ],
   "outputs": [],
   "metadata": {}
  },
  {
   "cell_type": "code",
   "execution_count": 5,
   "source": [
    "base_model = keras.applications.Xception(\r\n",
    "    weights=\"imagenet\",  # Load weights pre-trained on ImageNet.\r\n",
    "    input_shape=(224, 224, 3),\r\n",
    "    include_top=False,\r\n",
    ")  # Do not include the ImageNet classifier at the top.\r\n",
    "\r\n",
    "# Freeze the base_model\r\n",
    "base_model.trainable = False\r\n",
    "\r\n",
    "# Create new model on top\r\n",
    "inputs = keras.Input(shape=(224, 224, 3))\r\n",
    "\r\n",
    "outputs = VGG16(include_top=True, weights=None, classes=n_clases)(inputs)\r\n",
    "model = keras.Model(inputs, outputs)\r\n",
    "\r\n",
    "model.compile(\r\n",
    "        optimizer=\"adam\", loss=\"categorical_crossentropy\", metrics=[\"accuracy\"]\r\n",
    "    )"
   ],
   "outputs": [],
   "metadata": {}
  },
  {
   "cell_type": "code",
   "execution_count": 6,
   "source": [
    "epochs = 5  # @param {type: \"slider\", min:10, max:100}\r\n",
    "hist = model.fit(train_ds, epochs=epochs, validation_data=test_ds, verbose=2)"
   ],
   "outputs": [
    {
     "output_type": "stream",
     "name": "stdout",
     "text": [
      "Epoch 1/5\n",
      "25/25 - 539s - loss: 379.0430 - accuracy: 0.0000e+00 - val_loss: 4.4316 - val_accuracy: 0.0000e+00 - 539s/epoch - 22s/step\n",
      "Epoch 2/5\n",
      "25/25 - 464s - loss: 4.6875 - accuracy: 0.0139 - val_loss: 4.5640 - val_accuracy: 0.0000e+00 - 464s/epoch - 19s/step\n",
      "Epoch 3/5\n",
      "25/25 - 447s - loss: 4.8138 - accuracy: 0.0126 - val_loss: 4.7994 - val_accuracy: 0.0000e+00 - 447s/epoch - 18s/step\n",
      "Epoch 4/5\n",
      "25/25 - 465s - loss: 7.5439 - accuracy: 0.0240 - val_loss: 5.7555 - val_accuracy: 0.0000e+00 - 465s/epoch - 19s/step\n",
      "Epoch 5/5\n",
      "25/25 - 425s - loss: 4.5079 - accuracy: 0.0000e+00 - val_loss: 6.4842 - val_accuracy: 0.0000e+00 - 425s/epoch - 17s/step\n"
     ]
    }
   ],
   "metadata": {}
  },
  {
   "cell_type": "code",
   "execution_count": 7,
   "source": [
    "import matplotlib.pyplot as plt\r\n",
    "\r\n",
    "\r\n",
    "def plot_hist(hist):\r\n",
    "    plt.plot(hist.history[\"accuracy\"])\r\n",
    "    plt.plot(hist.history[\"val_accuracy\"])\r\n",
    "    plt.title(\"model accuracy\")\r\n",
    "    plt.ylabel(\"accuracy\")\r\n",
    "    plt.xlabel(\"epoch\")\r\n",
    "    plt.legend([\"train\", \"validation\"], loc=\"upper left\")\r\n",
    "    plt.show()\r\n",
    "\r\n",
    "\r\n",
    "plot_hist(hist)"
   ],
   "outputs": [
    {
     "output_type": "display_data",
     "data": {
      "image/png": "[encoded data removed]",
      "text/plain": [
       "<Figure size 432x288 with 1 Axes>"
      ]
     },
     "metadata": {
      "needs_background": "light"
     }
    }
   ],
   "metadata": {}
  },
  {
   "cell_type": "code",
   "execution_count": 8,
   "source": [
    "from tensorflow.keras.models import Sequential\r\n",
    "from tensorflow.keras import layers\r\n",
    "\r\n",
    "img_augmentation = Sequential(\r\n",
    "    [\r\n",
    "        layers.RandomRotation(factor=0.15),\r\n",
    "        layers.RandomTranslation(height_factor=0.1, width_factor=0.1),\r\n",
    "        layers.RandomFlip(),\r\n",
    "        layers.RandomContrast(factor=0.1),\r\n",
    "    ],\r\n",
    "    name=\"img_augmentation\",\r\n",
    ")"
   ],
   "outputs": [],
   "metadata": {}
  },
  {
   "cell_type": "code",
   "execution_count": 9,
   "source": [
    "from tensorflow.keras import layers\r\n",
    "\r\n",
    "\r\n",
    "def build_model(num_classes):\r\n",
    "    inputs = layers.Input(shape=(224, 224, 3))\r\n",
    "    x = img_augmentation(inputs)\r\n",
    "    model = VGG16(include_top=False, input_tensor=inputs, weights=\"imagenet\")\r\n",
    "\r\n",
    "    # Freeze the pretrained weights\r\n",
    "    model.trainable = False\r\n",
    "\r\n",
    "    # Rebuild top\r\n",
    "    x = layers.GlobalAveragePooling2D(name=\"avg_pool\")(model.output)\r\n",
    "    x = layers.BatchNormalization()(x)\r\n",
    "\r\n",
    "    top_dropout_rate = 0.2\r\n",
    "    x = layers.Dropout(top_dropout_rate, name=\"top_dropout\")(x)\r\n",
    "    outputs = layers.Dense(num_classes, activation=\"softmax\", name=\"pred\")(x)\r\n",
    "\r\n",
    "    # Compile\r\n",
    "    model = keras.Model(inputs, outputs)\r\n",
    "    optimizer = keras.optimizers.Adam(learning_rate=1e-2)\r\n",
    "    model.compile(\r\n",
    "        optimizer=optimizer, loss=\"categorical_crossentropy\", metrics=[\"accuracy\"]\r\n",
    "    )\r\n",
    "    return model"
   ],
   "outputs": [],
   "metadata": {}
  },
  {
   "cell_type": "code",
   "execution_count": 10,
   "source": [
    "model = build_model(num_classes=n_clases)\r\n",
    "\r\n",
    "epochs = 10  # @param {type: \"slider\", min:8, max:80}\r\n",
    "hist = model.fit(train_ds, epochs=epochs, validation_data=test_ds, verbose=2)"
   ],
   "outputs": [
    {
     "output_type": "stream",
     "name": "stdout",
     "text": [
      "Epoch 1/10\n",
      "25/25 - 124s - loss: 5.7574 - accuracy: 0.0088 - val_loss: 8.0798 - val_accuracy: 0.0000e+00 - 124s/epoch - 5s/step\n",
      "Epoch 2/10\n",
      "25/25 - 131s - loss: 1.9356 - accuracy: 0.5839 - val_loss: 7.6974 - val_accuracy: 0.0000e+00 - 131s/epoch - 5s/step\n",
      "Epoch 3/10\n",
      "25/25 - 149s - loss: 0.6085 - accuracy: 0.8852 - val_loss: 7.1111 - val_accuracy: 0.0000e+00 - 149s/epoch - 6s/step\n",
      "Epoch 4/10\n",
      "25/25 - 146s - loss: 0.2785 - accuracy: 0.9533 - val_loss: 7.2655 - val_accuracy: 0.0000e+00 - 146s/epoch - 6s/step\n",
      "Epoch 5/10\n",
      "25/25 - 149s - loss: 0.1336 - accuracy: 0.9874 - val_loss: 7.3463 - val_accuracy: 0.0000e+00 - 149s/epoch - 6s/step\n",
      "Epoch 6/10\n",
      "25/25 - 148s - loss: 0.0802 - accuracy: 0.9950 - val_loss: 7.6252 - val_accuracy: 0.0000e+00 - 148s/epoch - 6s/step\n",
      "Epoch 7/10\n",
      "25/25 - 154s - loss: 0.0522 - accuracy: 0.9962 - val_loss: 7.7045 - val_accuracy: 0.0000e+00 - 154s/epoch - 6s/step\n",
      "Epoch 8/10\n",
      "25/25 - 142s - loss: 0.0509 - accuracy: 0.9924 - val_loss: 7.9193 - val_accuracy: 0.0000e+00 - 142s/epoch - 6s/step\n",
      "Epoch 9/10\n",
      "25/25 - 122s - loss: 0.0430 - accuracy: 0.9950 - val_loss: 8.0337 - val_accuracy: 0.0000e+00 - 122s/epoch - 5s/step\n",
      "Epoch 10/10\n",
      "25/25 - 126s - loss: 0.0352 - accuracy: 0.9899 - val_loss: 8.4700 - val_accuracy: 0.0000e+00 - 126s/epoch - 5s/step\n"
     ]
    }
   ],
   "metadata": {}
  },
  {
   "cell_type": "code",
   "execution_count": 11,
   "source": [
    "plot_hist(hist)"
   ],
   "outputs": [
    {
     "output_type": "display_data",
     "data": {
      "image/png": "[encoded data removed]",
      "text/plain": [
       "<Figure size 432x288 with 1 Axes>"
      ]
     },
     "metadata": {
      "needs_background": "light"
     }
    }
   ],
   "metadata": {}
  },
  {
   "cell_type": "code",
   "execution_count": 12,
   "source": [
    "def unfreeze_model(model):\r\n",
    "    # We unfreeze the top 20 layers while leaving BatchNorm layers frozen\r\n",
    "    for layer in model.layers[-20:]:\r\n",
    "        if not isinstance(layer, layers.BatchNormalization):\r\n",
    "            layer.trainable = True\r\n",
    "\r\n",
    "    optimizer = tf.keras.optimizers.Adam(learning_rate=1e-4)\r\n",
    "    model.compile(\r\n",
    "        optimizer=optimizer, loss=\"categorical_crossentropy\", metrics=[\"accuracy\"]\r\n",
    "    )\r\n",
    "\r\n",
    "\r\n",
    "unfreeze_model(model)\r\n",
    "\r\n",
    "epochs = 5  # @param {type: \"slider\", min:8, max:50}\r\n",
    "hist = model.fit(train_ds, epochs=epochs, validation_data=test_ds, verbose=2)\r\n",
    "plot_hist(hist)"
   ],
   "outputs": [
    {
     "output_type": "stream",
     "name": "stdout",
     "text": [
      "Epoch 1/5\n",
      "25/25 - 342s - loss: 4.1096 - accuracy: 0.1728 - val_loss: 40.3018 - val_accuracy: 0.0000e+00 - 342s/epoch - 14s/step\n",
      "Epoch 2/5\n",
      "25/25 - 353s - loss: 4.0617 - accuracy: 0.1286 - val_loss: 48.1244 - val_accuracy: 0.0000e+00 - 353s/epoch - 14s/step\n",
      "Epoch 3/5\n",
      "25/25 - 387s - loss: 3.7071 - accuracy: 0.1311 - val_loss: 65.8712 - val_accuracy: 0.0000e+00 - 387s/epoch - 15s/step\n",
      "Epoch 4/5\n",
      "25/25 - 383s - loss: 3.2700 - accuracy: 0.1955 - val_loss: 20.4387 - val_accuracy: 0.0000e+00 - 383s/epoch - 15s/step\n",
      "Epoch 5/5\n",
      "25/25 - 362s - loss: 2.7529 - accuracy: 0.3077 - val_loss: 19.4718 - val_accuracy: 0.0000e+00 - 362s/epoch - 14s/step\n"
     ]
    },
    {
     "output_type": "display_data",
     "data": {
      "image/png": "[encoded data removed]",
      "text/plain": [
       "<Figure size 432x288 with 1 Axes>"
      ]
     },
     "metadata": {
      "needs_background": "light"
     }
    }
   ],
   "metadata": {}
  },
  {
   "cell_type": "code",
   "execution_count": 27,
   "source": [
    "size = (224, 224)\r\n",
    "\r\n",
    "def _parse_image(filename):\r\n",
    "    img = tf.io.read_file(filename)\r\n",
    "    img = tf.image.decode_bmp(img, channels = 3)\r\n",
    "    img = tf.image.resize(img, size)\r\n",
    "    img = tf.expand_dims(img, 0)\r\n",
    "    return img\r\n",
    "\r\n",
    "# try_image_path =  r\"C:\\Users\\na-ch\\Desktop\\estudio\\Master_Big_Data\\03_TFM\\02_Code\\dataset_test\\CASIA_IrisV1_unif\\001_1_1.bmp\"\r\n",
    "try_image_path =  r\"C:\\Users\\na-ch\\Desktop\\estudio\\Master_Big_Data\\03_TFM\\02_Code\\dataset_test\\CASIA_IrisV1_unif_segv2_edg_norm\\002_2_2.bmp\"\r\n",
    "\r\n",
    "try_image = _parse_image(try_image_path)"
   ],
   "outputs": [],
   "metadata": {}
  },
  {
   "cell_type": "code",
   "execution_count": 28,
   "source": [
    "result = model.predict(try_image)\r\n",
    "np.argmax(result) +1"
   ],
   "outputs": [
    {
     "output_type": "execute_result",
     "data": {
      "text/plain": [
       "51"
      ]
     },
     "metadata": {},
     "execution_count": 28
    }
   ],
   "metadata": {}
  },
  {
   "cell_type": "code",
   "execution_count": 29,
   "source": [
    "result"
   ],
   "outputs": [
    {
     "output_type": "execute_result",
     "data": {
      "text/plain": [
       "array([[6.15573703e-10, 1.98702432e-09, 6.27218166e-10, 1.90163335e-14,\n",
       "        1.41374768e-11, 8.68747829e-09, 1.48272321e-14, 1.80494590e-13,\n",
       "        3.09642394e-12, 3.36410726e-11, 3.10125528e-14, 3.88153641e-11,\n",
       "        1.78161392e-11, 1.27595063e-15, 4.16929353e-08, 3.06502034e-06,\n",
       "        6.72795932e-06, 7.07889910e-07, 2.65863692e-10, 1.49901012e-12,\n",
       "        3.93422551e-11, 3.82887926e-08, 7.11832870e-10, 2.74245160e-09,\n",
       "        4.35466333e-12, 2.82134334e-08, 2.62936256e-10, 7.55035953e-13,\n",
       "        2.62459477e-12, 4.69211421e-13, 9.45845898e-07, 3.82121854e-08,\n",
       "        9.44115012e-12, 1.62993952e-09, 6.63704647e-11, 1.52419879e-13,\n",
       "        5.41684189e-12, 1.58811518e-16, 3.66329500e-09, 9.69707821e-12,\n",
       "        4.22610252e-10, 1.01022401e-13, 2.74623267e-06, 2.45611773e-07,\n",
       "        9.71988268e-10, 6.30156691e-08, 7.97359123e-11, 1.44520791e-05,\n",
       "        4.04414245e-11, 4.35921654e-09, 9.99970555e-01, 1.85606912e-11,\n",
       "        6.74371515e-14, 1.12176977e-07, 3.06350702e-13, 3.58704609e-16,\n",
       "        1.38288501e-08, 1.51959913e-15, 4.11149047e-14, 8.86815599e-09,\n",
       "        1.76362813e-10, 7.31605748e-11, 4.46260695e-10, 4.14959844e-10,\n",
       "        4.92261193e-14, 9.95189174e-12, 2.15126875e-10, 2.03685961e-12,\n",
       "        1.04219159e-11, 4.92431318e-10, 2.36002662e-10, 1.64384598e-12,\n",
       "        6.28869027e-13, 6.26910958e-13, 7.44540605e-13, 4.32626721e-12,\n",
       "        1.23428334e-11, 1.07402656e-10, 7.08522650e-13, 1.47590291e-11,\n",
       "        8.26047071e-08, 3.51191271e-13, 1.58270914e-11, 1.30076375e-12,\n",
       "        7.77258813e-11, 1.03754418e-08, 1.92027411e-13, 8.69476610e-14,\n",
       "        2.31786134e-13, 6.98115399e-10, 3.89147881e-10, 9.43372117e-11,\n",
       "        1.13996909e-12, 1.20543031e-09, 8.37975467e-09, 2.07898356e-08,\n",
       "        1.56543081e-08, 6.36630193e-10, 1.67648700e-10, 7.90365551e-10,\n",
       "        1.17887835e-11, 1.46247001e-10, 5.66116682e-08, 3.46983164e-10,\n",
       "        1.00063464e-11, 4.68997685e-09, 5.71712322e-09, 6.58434678e-13]],\n",
       "      dtype=float32)"
      ]
     },
     "metadata": {},
     "execution_count": 29
    }
   ],
   "metadata": {}
  },
  {
   "cell_type": "code",
   "execution_count": 16,
   "source": [
    "# model.save('raw_complete')"
   ],
   "outputs": [],
   "metadata": {}
  },
  {
   "cell_type": "code",
   "execution_count": 17,
   "source": [
    "model.save('normal_complete')"
   ],
   "outputs": [
    {
     "output_type": "stream",
     "name": "stdout",
     "text": [
      "INFO:tensorflow:Assets written to: normal_complete\\assets\n"
     ]
    }
   ],
   "metadata": {}
  },
  {
   "cell_type": "code",
   "execution_count": 18,
   "source": [
    "# import tensorflow_datasets as tfds\r\n",
    "\r\n",
    "# batch_size = 64\r\n",
    "\r\n",
    "# dataset_name = \"stanford_dogs\"\r\n",
    "# (ds_train, ds_test), ds_info = tfds.load(\r\n",
    "#     dataset_name, split=[\"train\", \"test\"], with_info=True, as_supervised=True\r\n",
    "# )\r\n",
    "# NUM_CLASSES = ds_info.features[\"label\"].num_classes"
   ],
   "outputs": [],
   "metadata": {}
  },
  {
   "cell_type": "code",
   "execution_count": 19,
   "source": [
    "# IMG_SIZE = 224\r\n",
    "\r\n",
    "# size = (IMG_SIZE, IMG_SIZE)\r\n",
    "# ds_train = ds_train.map(lambda image, label: (tf.image.resize(image, size), label))\r\n",
    "# ds_test = ds_test.map(lambda image, label: (tf.image.resize(image, size), label))"
   ],
   "outputs": [],
   "metadata": {}
  },
  {
   "cell_type": "code",
   "execution_count": 20,
   "source": [
    "# # One-hot / categorical encoding\r\n",
    "# def input_preprocess(image, label):\r\n",
    "#     label = tf.one_hot(label, NUM_CLASSES)\r\n",
    "#     return image, label\r\n",
    "\r\n",
    "\r\n",
    "# ds_train = ds_train.map(\r\n",
    "#     input_preprocess, num_parallel_calls=tf.data.AUTOTUNE\r\n",
    "# )\r\n",
    "# ds_train = ds_train.batch(batch_size=batch_size, drop_remainder=True)\r\n",
    "# ds_train = ds_train.prefetch(tf.data.AUTOTUNE)\r\n",
    "\r\n",
    "# ds_test = ds_test.map(input_preprocess)\r\n",
    "# ds_test = ds_test.batch(batch_size=batch_size, drop_remainder=True)"
   ],
   "outputs": [],
   "metadata": {}
  },
  {
   "cell_type": "code",
   "execution_count": 21,
   "source": [
    "# x = 0\r\n",
    "# for i, a in ds_test:\r\n",
    "#     if x < 1:\r\n",
    "#         print(a.numpy()==1) \r\n",
    "#         print(\"-----\")\r\n",
    "#         x +=1\r\n",
    "#     else:\r\n",
    "#         break"
   ],
   "outputs": [],
   "metadata": {}
  },
  {
   "cell_type": "code",
   "execution_count": 22,
   "source": [
    "# from tensorflow.keras.applications import EfficientNetB0\r\n",
    "# from tensorflow.keras import layers\r\n",
    "\r\n",
    "\r\n",
    "# inputs = layers.Input(shape=(IMG_SIZE, IMG_SIZE, 3))\r\n",
    "# outputs = EfficientNetB0(include_top=True, weights=None, classes=NUM_CLASSES)(inputs)\r\n",
    "\r\n",
    "# model = tf.keras.Model(inputs, outputs)\r\n",
    "# model.compile(\r\n",
    "#         optimizer=\"adam\", loss=\"categorical_crossentropy\", metrics=[\"accuracy\"]\r\n",
    "#     )\r\n",
    "\r\n",
    "# model.summary()\r\n",
    "\r\n",
    "# epochs = 1  # @param {type: \"slider\", min:10, max:100}\r\n",
    "# hist = model.fit(ds_train, epochs=epochs, validation_data=ds_test, verbose=2)"
   ],
   "outputs": [],
   "metadata": {}
  }
 ],
 "metadata": {
  "orig_nbformat": 4,
  "language_info": {
   "name": "python",
   "version": "3.7.0",
   "mimetype": "text/x-python",
   "codemirror_mode": {
    "name": "ipython",
    "version": 3
   },
   "pygments_lexer": "ipython3",
   "nbconvert_exporter": "python",
   "file_extension": ".py"
  },
  "kernelspec": {
   "name": "python3",
   "display_name": "Python 3.7.0 64-bit (system)"
  },
  "interpreter": {
   "hash": "0600588c3b5f4418cbe7b5ebc6825b479f3bc010269d8b60d75058cdd010adfe"
  }
 },
 "nbformat": 4,
 "nbformat_minor": 2
}