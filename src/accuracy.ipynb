{
 "cells": [
  {
   "cell_type": "code",
   "execution_count": 12,
   "id": "192ace65",
   "metadata": {},
   "outputs": [],
   "source": [
    "import numpy as np\n",
    "from tensorflow import keras\n",
    "import pathlib\n",
    "import tensorflow as tf\n",
    "import os"
   ]
  },
  {
   "cell_type": "code",
   "execution_count": 13,
   "id": "60f92941",
   "metadata": {},
   "outputs": [],
   "source": [
    "model = keras.models.load_model(r\"/home/ipl1002/root_folder/try_model\")"
   ]
  },
  {
   "cell_type": "code",
   "execution_count": 14,
   "id": "18490f7b",
   "metadata": {},
   "outputs": [],
   "source": [
    "# model.summary()"
   ]
  },
  {
   "cell_type": "code",
   "execution_count": 15,
   "id": "6cacfd6d",
   "metadata": {},
   "outputs": [],
   "source": [
    "test_path_dir = r'/home/ipl1002/root_folder/CASIA-IrisV1_reservado'\n",
    "size = (224, 224)\n",
    "\n",
    "def _parse_image(filename):\n",
    "    img = tf.io.read_file(filename)\n",
    "    img = tf.image.decode_bmp(img, channels = 3)\n",
    "    img = tf.image.resize(img, size)\n",
    "    img = tf.expand_dims(img, 0)\n",
    "    return img"
   ]
  },
  {
   "cell_type": "code",
   "execution_count": 16,
   "id": "64756b6f",
   "metadata": {},
   "outputs": [],
   "source": [
    "paths_array = np.array([x.__str__() for x in pathlib.Path(test_path_dir).rglob('*.bmp')])\n",
    "realClass_array = np.array([x.split(\"/\")[-1].split(\"_\")[0] for x in paths_array]).astype(int)\n",
    "predicted_array = np.array([])\n",
    "for i in paths_array:\n",
    "    result = model.predict(_parse_image(i))\n",
    "    predicted_array = np.append(predicted_array, np.argmax(result) + 1) "
   ]
  },
  {
   "cell_type": "code",
   "execution_count": 17,
   "id": "5bf48ed3",
   "metadata": {},
   "outputs": [
    {
     "data": {
      "text/plain": [
       "array([ 47,  41,  11,  80,  68,  83,  46,  80,   3,  59,  21,  89,  98,\n",
       "        67,  54,  80,  70,  60, 102,   8,  43,  93,   6,  63,  54,  37,\n",
       "        97,   1,  56,  31,  44,  25,  58,  79,  94,  96,  96,  39,  37,\n",
       "       100,  49,  92,  53,  24,  56,  16,  84,  12,  23,   4,  52,  41,\n",
       "        52,  18,  14,  70,  89,  29,  56,  54,  86,  97,  61,  20,  96,\n",
       "       102,   9,  82,  72,  95,  78,  67,  71,   3,  78,  31,  31,  90,\n",
       "        33,   7,  95,  45,  49,  55,  59,  72,  73,  93,  39,  90,  50,\n",
       "        18,  92,  86,  50,  39,   1, 101,  88, 104,  45,  37,  20,  17,\n",
       "        32,  28, 100,  15,  57,  64,  15, 103,  84,  34,  66,  62,  22,\n",
       "        10,  35,  51,  66,  37,  53,  55, 102,  91,  77,  92,  64,  25,\n",
       "        74,  70,  97,  15,  20,  14,  46, 106,  85,  97,  43,  13,  28,\n",
       "       104,  59,  74,  91,  39,  73,  35,  89,  36,  98,   9,  69,  17,\n",
       "        96,  20,  13,  55,  71,  18,  66,  52,  70,  24,  62,  59,  62,\n",
       "        55,  98,  56,  64,  45,  32,  30,  50,  75, 107,  24,  42,  56,\n",
       "       108,  53,  27,  36,  14,  38,  87,  17,  20,  93,  69,   7,  45,\n",
       "        99,  26,  36,  44,  54,  40,  74,  29,  19,   1,  27,  62,  83,\n",
       "        79, 104,  38,  74,  62,  80,  11,  94, 101,  64,  81,  27,  31,\n",
       "        88,  59,  64,  28,   8,  75,  31])"
      ]
     },
     "execution_count": 17,
     "metadata": {},
     "output_type": "execute_result"
    }
   ],
   "source": [
    "realClass_array"
   ]
  },
  {
   "cell_type": "code",
   "execution_count": 18,
   "id": "28a35379",
   "metadata": {},
   "outputs": [
    {
     "data": {
      "text/plain": [
       "array([ 6.,  6.,  6.,  6.,  6.,  6.,  6.,  6.,  6.,  6.,  6.,  6.,  6.,\n",
       "        6.,  6.,  6.,  6.,  6.,  6., 26.,  6.,  6.,  6.,  6.,  6.,  6.,\n",
       "        6.,  6.,  6.,  6.,  6.,  6.,  6.,  6.,  6.,  6.,  6., 97.,  6.,\n",
       "        6.,  6.,  6.,  6.,  6.,  6.,  6.,  6.,  6.,  6.,  6.,  6.,  6.,\n",
       "        6.,  6.,  6.,  6.,  6.,  6.,  6.,  6.,  6.,  6.,  6.,  6.,  6.,\n",
       "        6.,  6.,  6.,  6.,  6.,  6., 97.,  6.,  6.,  6.,  6.,  6.,  6.,\n",
       "        6.,  6.,  6.,  6.,  6.,  6.,  6.,  6., 26.,  6.,  6.,  6.,  6.,\n",
       "        6.,  6.,  6.,  6.,  6.,  6.,  6.,  6.,  6.,  6.,  6.,  6.,  6.,\n",
       "        6.,  6.,  6.,  6.,  6.,  6.,  6.,  6.,  6.,  6.,  6.,  6.,  6.,\n",
       "        6.,  6.,  6., 26.,  6.,  6.,  6.,  6.,  6.,  6.,  6.,  6.,  6.,\n",
       "        6.,  6.,  6.,  6.,  6.,  6.,  6.,  6.,  6.,  6.,  6.,  6.,  6.,\n",
       "        6.,  6.,  6.,  6.,  6.,  6.,  6.,  6.,  6.,  6.,  6.,  6.,  6.,\n",
       "        6.,  6.,  6.,  6.,  6.,  6.,  6.,  6.,  6.,  6.,  6.,  6.,  6.,\n",
       "        6.,  6.,  6.,  6.,  6.,  6.,  6.,  6.,  6.,  6.,  6.,  6.,  6.,\n",
       "        6.,  6.,  6.,  6.,  6.,  6.,  6.,  6.,  6.,  6.,  6.,  6.,  6.,\n",
       "       26.,  6.,  6.,  6.,  6.,  6.,  6.,  6., 26.,  6.,  6.,  6.,  6.,\n",
       "        6.,  6.,  6.,  6.,  6.,  6.,  6.,  6., 26.,  6.,  6.,  6.,  6.,\n",
       "        6.,  6.,  6.,  6.,  6.,  6.,  6.])"
      ]
     },
     "execution_count": 18,
     "metadata": {},
     "output_type": "execute_result"
    }
   ],
   "source": [
    "predicted_array"
   ]
  },
  {
   "cell_type": "code",
   "execution_count": 19,
   "id": "7297736f",
   "metadata": {},
   "outputs": [
    {
     "data": {
      "text/plain": [
       "{6.0, 26.0, 97.0}"
      ]
     },
     "execution_count": 19,
     "metadata": {},
     "output_type": "execute_result"
    }
   ],
   "source": [
    "set(predicted_array)"
   ]
  },
  {
   "cell_type": "code",
   "execution_count": 20,
   "id": "9f10c3f3",
   "metadata": {},
   "outputs": [
    {
     "data": {
      "text/plain": [
       "0.004385965"
      ]
     },
     "execution_count": 20,
     "metadata": {},
     "output_type": "execute_result"
    }
   ],
   "source": [
    "m = tf.keras.metrics.Accuracy()\n",
    "m.update_state(realClass_array, predicted_array)\n",
    "m.result().numpy()"
   ]
  }
 ],
 "metadata": {
  "kernelspec": {
   "display_name": "Python 3 (ipykernel)",
   "language": "python",
   "name": "python3"
  },
  "language_info": {
   "codemirror_mode": {
    "name": "ipython",
    "version": 3
   },
   "file_extension": ".py",
   "mimetype": "text/x-python",
   "name": "python",
   "nbconvert_exporter": "python",
   "pygments_lexer": "ipython3",
   "version": "3.9.7"
  }
 },
 "nbformat": 4,
 "nbformat_minor": 5
}
