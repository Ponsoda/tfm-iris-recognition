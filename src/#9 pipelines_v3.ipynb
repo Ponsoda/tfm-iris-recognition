{
 "cells": [
  {
   "cell_type": "markdown",
   "source": [
    "# Pipeline configuration"
   ],
   "metadata": {}
  },
  {
   "cell_type": "code",
   "execution_count": 13,
   "source": [
    "confi_dict = {\r\n",
    "\r\n",
    "    'general':{\r\n",
    "        'root_dir':r\"C:\\Users\\na-ch\\Desktop\\estudio\\Master_Big_Data\\03_TFM\\02_Code\\dataset_test\",\r\n",
    "        'dataset_dir': \"CASIA_IrisV1\"\r\n",
    "    },\r\n",
    "\r\n",
    "    '1_tratarDataset': {\r\n",
    "        'show_first' : False\r\n",
    "    },\r\n",
    "\r\n",
    "    '1.1_dataAugmentation':{\r\n",
    "        'gaussianNoise' : True,\r\n",
    "        'stdGN': [5, 10, 15, 20, 25, 30],\r\n",
    "        'skipFiles': 1, \r\n",
    "        ''' \r\n",
    "        1 means that you are skiping 1 for the noise augmentation, 2 skiping 2 and so on. If you don't want to skip files set it as 0\r\n",
    "        '''\r\n",
    "        'afinTransformation': True\r\n",
    "    },\r\n",
    "\r\n",
    "    '2.1_segmentation':{\r\n",
    "        'redNeuronal' : \"Iris_unet_d5.h5\", \r\n",
    "        'numSamplesGenerator' : 3, \r\n",
    "        'verImagen' : True\r\n",
    "    }\r\n",
    "\r\n",
    "}"
   ],
   "outputs": [],
   "metadata": {}
  },
  {
   "cell_type": "markdown",
   "source": [
    "# 1: Tratar el dataset CASIA\r\n",
    "\r\n"
   ],
   "metadata": {}
  },
  {
   "cell_type": "markdown",
   "source": [
    "## 1 tratar_dataset_casia()"
   ],
   "metadata": {}
  },
  {
   "cell_type": "code",
   "execution_count": 14,
   "source": [
    "def tratar_dataset_casia(dict):\r\n",
    "    \r\n",
    "    print(\"Función 1, tratar_dataset_casia()\")\r\n",
    "    \r\n",
    "    ''' \r\n",
    "    Importando librerías\r\n",
    "    '''\r\n",
    "    try:\r\n",
    "        import os\r\n",
    "    except:\r\n",
    "        !pip install os\r\n",
    "        import os\r\n",
    "    try:\r\n",
    "        import shutil\r\n",
    "    except:\r\n",
    "        !pip install shutil\r\n",
    "        import shutil\r\n",
    "    try:\r\n",
    "         import imageio\r\n",
    "    except:\r\n",
    "        !pip install imageio\r\n",
    "        import imageio\r\n",
    "    try:\r\n",
    "        import matplotlib.pyplot as plt\r\n",
    "    except:\r\n",
    "        !pip install matplotlib\r\n",
    "        import matplotlib.pyplot as plt\r\n",
    "    ''' \r\n",
    "    Estableciendo la root de la función\r\n",
    "    '''\r\n",
    "    os.chdir(dict['general']['root_dir'])\r\n",
    "    \r\n",
    "    def copy_all_samples(path_samples, destination_directory):\r\n",
    "        '''\r\n",
    "        Copia todas las muestras del dataset de CASIA a un único directorio.\r\n",
    "        '''\r\n",
    "        if not os.path.exists(path_samples):\r\n",
    "            print(\"El directorio indicado como input no existe\")\r\n",
    "        elif not os.path.exists(destination_directory):\r\n",
    "            ''' \r\n",
    "            Comprobamos que el directorio del output no existe\r\n",
    "            '''\r\n",
    "            os.mkdir(destination_directory) # Creamos un nuevo directorio \r\n",
    "            for root, dirs, files in os.walk(path_samples):\r\n",
    "                for file in files:\r\n",
    "                    path_file = os.path.join(root,file)\r\n",
    "                    shutil.copy2(path_file,destination_directory)   \r\n",
    "            print(\"-> Muestras copiadas satisfactoriamente.\")\r\n",
    "        elif len(os.listdir(destination_directory)) < 1:\r\n",
    "            ''' \r\n",
    "            Comprobamos que el directorio del output no está vacío\r\n",
    "            '''\r\n",
    "            for root, dirs, files in os.walk(path_samples):\r\n",
    "                for file in files:\r\n",
    "                    path_file = os.path.join(root,file)\r\n",
    "                    shutil.copy2(path_file,destination_directory)   \r\n",
    "            print(\"-> Muestras copiadas satisfactoriamente.\")\r\n",
    "        else:\r\n",
    "            print(\"-> Muetras previamente copiadas.\")\r\n",
    "\r\n",
    "    dict['general']['dataset_unif_dir'] = dict['general']['dataset_dir']+\"_unif\"\r\n",
    "\r\n",
    "    copy_all_samples(dict['general']['dataset_dir'], dict['general']['dataset_unif_dir'])\r\n",
    "\r\n",
    "    if dict['1_tratarDataset']['show_first']:\r\n",
    "        ''' \r\n",
    "        Si en la configuración show_first es True, se mostrará el primer elemento del nuevo directorio.\r\n",
    "        '''\r\n",
    "        path_img = dict['general']['dataset_unif_dir'] + os.sep + os.listdir(dict['general']['dataset_unif_dir'])[0]\r\n",
    "        img = imageio.imread(path_img)\r\n",
    "        plt.title(\"Primer elemento de \" + dict['general']['dataset_unif_dir'])\r\n",
    "        plt.imshow(img)\r\n",
    "    \r\n",
    "    ''' \r\n",
    "    Pasando el diccionario con la configuración a la siguiente función\r\n",
    "    '''\r\n",
    "    return dict\r\n"
   ],
   "outputs": [],
   "metadata": {}
  },
  {
   "cell_type": "markdown",
   "source": [
    "## 1.1 data_augmentation()"
   ],
   "metadata": {}
  },
  {
   "cell_type": "code",
   "execution_count": 15,
   "source": [
    "def data_augmentation(dict):\r\n",
    "\r\n",
    "    print(\"Función 1.1, data_augmentation()\")\r\n",
    "    \r\n",
    "    ''' \r\n",
    "    Importando librerías\r\n",
    "    '''\r\n",
    "    try:\r\n",
    "        import os\r\n",
    "    except:\r\n",
    "        !pip install os\r\n",
    "        import os\r\n",
    "    try:\r\n",
    "        import imageio\r\n",
    "    except:\r\n",
    "        !pip install imageio\r\n",
    "        import imageio\r\n",
    "    try:\r\n",
    "        import skimage.io as io\r\n",
    "    except:\r\n",
    "        !pip install scikit-image\r\n",
    "        import skimage.io as io\r\n",
    "    try:\r\n",
    "        import matplotlib.pyplot as plt\r\n",
    "    except:\r\n",
    "        !pip install matplotlib\r\n",
    "        import matplotlib.pyplot as plt\r\n",
    "    try:\r\n",
    "        from tensorflow.keras.layers import GaussianNoise\r\n",
    "    except:\r\n",
    "        !pip install tensorflow\r\n",
    "        from tensorflow.keras.layers import GaussianNoise\r\n",
    "    try:\r\n",
    "        import numpy as np\r\n",
    "    except:\r\n",
    "        !pip install numpy\r\n",
    "        import numpy as np\r\n",
    "    import random\r\n",
    "\r\n",
    "    ''' \r\n",
    "    Estableciendo la root de la función\r\n",
    "    '''\r\n",
    "    os.chdir(dict['general']['root_dir'])\r\n",
    "    \r\n",
    "    ''' \r\n",
    "    Comprobamos si el ruido gaussiano ha sido establecido como True en la configuración\r\n",
    "    '''\r\n",
    "\r\n",
    "    if dict['1.1_dataAugmentation']['gaussianNoise']:\r\n",
    "\r\n",
    "        ''' \r\n",
    "        Comprobamos si el ruido gaussiano se ha aplicado anteriormente, si es así, el primer elemento del directorio debería de tener el sufijo _augmentation\r\n",
    "        '''\r\n",
    "        if \"_augment\" in os.listdir(dict['general']['dataset_unif_dir'])[1]:\r\n",
    "            print(\"->El ruido gaussiano ya se ha ejecutado con anterioridad\")\r\n",
    "        else:     \r\n",
    "            ''' \r\n",
    "            Desde el directorio unificado creamos nuevas imágenes utilizando el ruido gaussiano como data augmentation.\r\n",
    "            Añadimos un contador para que el augmentation sea de 1 cada dos imágenes.\r\n",
    "            '''\r\n",
    "            i = 0\r\n",
    "            for filename in os.listdir(dict['general']['dataset_unif_dir']):\r\n",
    "                if dict['1.1_dataAugmentation']['skipFiles'] == 0:\r\n",
    "                    path = dict['general']['dataset_unif_dir'] + os.sep + filename\r\n",
    "                    image = imageio.imread(path)/255\r\n",
    "                    std_rdm = random.choice(dict['1.1_dataAugmentation']['stdGN'])\r\n",
    "                    gaussean_function = GaussianNoise(std_rdm/100)\r\n",
    "                    noisey = gaussean_function(image.astype(np.float32),training=True)\r\n",
    "                    name = path[:-4] + '_augment.bmp'\r\n",
    "                    plt.imsave(name, noisey, cmap='gray')\r\n",
    "                elif i < dict['1.1_dataAugmentation']['skipFiles']:\r\n",
    "                    path = dict['general']['dataset_unif_dir'] + os.sep + filename\r\n",
    "                    image = imageio.imread(path)/255\r\n",
    "                    std_rdm = random.choice(dict['1.1_dataAugmentation']['stdGN'])\r\n",
    "                    gaussean_function = GaussianNoise(std_rdm/100)\r\n",
    "                    noisey = gaussean_function(image.astype(np.float32),training=True)\r\n",
    "                    name = path[:-4] + '_augment.bmp'\r\n",
    "                    io.imsave(name, noisey)\r\n",
    "                    i += 1\r\n",
    "                else:\r\n",
    "                    i = 0\r\n",
    "            print(\"->Data augmentation 'ruido gausseano' ejecutado correctamente\")\r\n",
    "    else:\r\n",
    "        print(\"->Saltando el ruido gausseano en data augmentation\")\r\n",
    "\r\n",
    "    ''' \r\n",
    "    Pasando el diccionario con la configuración a la siguiente función\r\n",
    "    '''\r\n",
    "    return dict"
   ],
   "outputs": [],
   "metadata": {}
  },
  {
   "cell_type": "markdown",
   "source": [
    "# 2 Red U-Net v2"
   ],
   "metadata": {}
  },
  {
   "cell_type": "markdown",
   "source": [
    "## 2.1 segmentation()"
   ],
   "metadata": {}
  },
  {
   "cell_type": "code",
   "execution_count": 16,
   "source": [
    "def segmentation(dict):\r\n",
    "\r\n",
    "    print(\"Función 2.1, segmentation()\")\r\n",
    "\r\n",
    "    ''' \r\n",
    "    Importando librerías\r\n",
    "    '''\r\n",
    "    try:\r\n",
    "        import os\r\n",
    "    except:\r\n",
    "        !pip install os\r\n",
    "        import os\r\n",
    "    try:\r\n",
    "        import cv2\r\n",
    "    except:\r\n",
    "        import cv2\r\n",
    "    try:\r\n",
    "        import shutil\r\n",
    "    except:\r\n",
    "        !pip install shutil\r\n",
    "        import shutil\r\n",
    "    try:\r\n",
    "         import imageio\r\n",
    "    except:\r\n",
    "        !pip install imageio\r\n",
    "        import imageio\r\n",
    "    try:\r\n",
    "        import skimage.transform as trans\r\n",
    "        from skimage.io import imshow\r\n",
    "        import skimage.io as io\r\n",
    "    except:\r\n",
    "        !pip install scikit-image\r\n",
    "        import skimage.transform as trans\r\n",
    "        from skimage.io import imshow\r\n",
    "        import skimage.io as io\r\n",
    "    try:\r\n",
    "        import matplotlib.pyplot as plt\r\n",
    "    except:\r\n",
    "        !pip install matplotlib\r\n",
    "        import matplotlib.pyplot as plt\r\n",
    "    try:\r\n",
    "        from keras.models import load_model\r\n",
    "    except:\r\n",
    "        !pip install tensorflow \r\n",
    "        from keras.models import load_model\r\n",
    "    try:\r\n",
    "        import numpy as np\r\n",
    "    except:\r\n",
    "        !pip install numpy\r\n",
    "        import numpy as np\r\n",
    "    try:\r\n",
    "        from PIL import Image\r\n",
    "    except:\r\n",
    "        !pip install Pillow\r\n",
    "        from PIL import Image\r\n",
    "    ''' \r\n",
    "    Estableciendo la root de la función\r\n",
    "    '''\r\n",
    "    os.chdir(dict['general']['root_dir'])\r\n",
    "\r\n",
    "    ''' \r\n",
    "    Cargamos el modelo de segmentación\r\n",
    "    '''\r\n",
    "    model = load_model(dict['2.1_segmentation']['redNeuronal'])\r\n",
    "    print(\"->Modelo cargado\")\r\n",
    "\r\n",
    "    ''' \r\n",
    "    Creamos un generador con un número n de imágenes para pasarselas al modelo en el predict\r\n",
    "    *Recordemos que este modelo ya está entrenado para la segmentación del ojo\r\n",
    "    '''\r\n",
    "    def testGenerator(directory, num_image, target_size = (320,320)):\r\n",
    "        '''\r\n",
    "        Genera las muestras que se le pasarán al método predecir de la red preentrenada.\r\n",
    "        \r\n",
    "        Parámetros:\r\n",
    "        directory -- directorio dónde se encuentran las muestras a generar\r\n",
    "        num_image -- número máximo de imágenes que queremos generar\r\n",
    "        target_size -- shape de de la muestra\r\n",
    "        flag_multi_class -- (de momento mantener pero no nos es útil)\r\n",
    "        '''\r\n",
    "        i = 0\r\n",
    "        for file in os.listdir(directory):\r\n",
    "            if i == num_image:\r\n",
    "                break # sólo queremos x imágenes para probar\r\n",
    "            path_file = os.path.join(directory,file)\r\n",
    "            img = imageio.imread(path_file)\r\n",
    "            img = img / 255\r\n",
    "            img = trans.resize(img,target_size)\r\n",
    "            img = np.reshape(img, img.shape+(1,))\r\n",
    "            img = np.reshape(img, (1,) + img.shape)\r\n",
    "            i += 1\r\n",
    "            yield img\r\n",
    "    \r\n",
    "    def get_samples_names(directory, num_image):\r\n",
    "        '''\r\n",
    "        Devuelve los nombres de las muestras (los que se encuentran en los directorios hoja)\r\n",
    "        \r\n",
    "        Parámetros:\r\n",
    "        directory -- directorio de cuyos subdirectorios hoja se quiere el nombre \r\n",
    "        '''\r\n",
    "        i = 0\r\n",
    "        names = []\r\n",
    "        for file in os.listdir(directory):\r\n",
    "            if i == num_image:\r\n",
    "                break # sólo queremos x imágenes para probar\r\n",
    "            names.append(str(file))\r\n",
    "            i += 1\r\n",
    "                \r\n",
    "        return names\r\n",
    "\r\n",
    "    def saveResult(save_path, name_path, npyfile, num_image):\r\n",
    "        '''\r\n",
    "        Guarda los imágenes segmentadas resultado de la red preentrenada\r\n",
    "        \r\n",
    "        Parámetros:\r\n",
    "        save_path -- ruta en la que se guardarán las muestras segmentadas\r\n",
    "        name_path -- directorio del que cogeremos los nombres de las muestras\r\n",
    "        npyfile -- resultado de la red preentrenada\r\n",
    "        '''\r\n",
    "        dim = (320, 280) # dimensioned de las muestras del dataset\r\n",
    "        if os.path.exists(save_path):\r\n",
    "            shutil.rmtree(save_path)\r\n",
    "        os.mkdir(save_path)\r\n",
    "        names = get_samples_names(name_path, num_image)\r\n",
    "        for i, item in enumerate(npyfile):\r\n",
    "            img = item[:,:,0]\r\n",
    "            img = cv2.resize(img, dim, interpolation=cv2.INTER_AREA)\r\n",
    "            io.imsave(os.path.join(save_path,names[i]),img)    \r\n",
    "\r\n",
    "\r\n",
    "    testGene = testGenerator(dict['general']['dataset_unif_dir'], dict['2.1_segmentation']['numSamplesGenerator'])\r\n",
    "    Unet_results = model.predict(testGene,dict['2.1_segmentation']['numSamplesGenerator'],verbose=1)\r\n",
    "    dict['general']['dataset_unif_seg_dir'] =  dict['general']['dataset_unif_dir']  + \"_seg\" \r\n",
    "    saveResult(dict['general']['dataset_unif_seg_dir'], dict['general']['dataset_unif_dir'], Unet_results, dict['2.1_segmentation']['numSamplesGenerator'])\r\n",
    "    print(\"->Segmentaciones guardadas\")\r\n",
    "\r\n",
    "    if dict['2.1_segmentation']['verImagen']:\r\n",
    "        sample = \"001_1_1.bmp\"\r\n",
    "        path_img = dict['general']['dataset_unif_dir'] + os.sep + sample\r\n",
    "        path_back = dict['general']['dataset_unif_seg_dir'] + os.sep + sample\r\n",
    "        image = Image.open(path_img)\r\n",
    "        background = Image.open(path_back)\r\n",
    "        background.paste(image, (0, 0), image)\r\n",
    "        plt.imshow(background, cmap='gray');"
   ],
   "outputs": [],
   "metadata": {}
  },
  {
   "cell_type": "markdown",
   "source": [
    "## 2.2 normalization()"
   ],
   "metadata": {}
  },
  {
   "cell_type": "code",
   "execution_count": null,
   "source": [
    "def normalization(dict):\r\n",
    "\r\n",
    "    print(\"Función 2.2, normalization()\")\r\n",
    "\r\n",
    "    ''' \r\n",
    "    Importando librerías\r\n",
    "    '''\r\n",
    "    try:\r\n",
    "        import os\r\n",
    "    except:\r\n",
    "        !pip install os\r\n",
    "        import os\r\n",
    "    ''' \r\n",
    "    Estableciendo la root de la función\r\n",
    "    '''\r\n",
    "    os.chdir(dict['general']['root_dir'])\r\n",
    "\r\n",
    "    "
   ],
   "outputs": [],
   "metadata": {}
  },
  {
   "cell_type": "markdown",
   "source": [
    "# Definir y ejecutar el pipeline"
   ],
   "metadata": {}
  },
  {
   "cell_type": "markdown",
   "source": [
    "## Definición del pipeline"
   ],
   "metadata": {}
  },
  {
   "cell_type": "code",
   "execution_count": 5,
   "source": [
    "try:\r\n",
    "    from sklearn.preprocessing import FunctionTransformer\r\n",
    "    from sklearn.pipeline import Pipeline\r\n",
    "except ImportError as e:\r\n",
    "    !pip install sklearn\r\n",
    "    from sklearn.preprocessing import FunctionTransformer\r\n",
    "    from sklearn.pipeline import Pipeline"
   ],
   "outputs": [],
   "metadata": {}
  },
  {
   "cell_type": "code",
   "execution_count": 17,
   "source": [
    "_1_tratar_dataset_pip = FunctionTransformer(tratar_dataset_casia)\r\n",
    "_1_1_data_augmentation_pip = FunctionTransformer(data_augmentation)\r\n",
    "_2_1_segmentation_pip = FunctionTransformer(segmentation)\r\n",
    "\r\n",
    "iris_recognition_pipeline = Pipeline([('_1_tratarDataset', _1_tratar_dataset_pip), ('_1_1_dataAugmentation', _1_1_data_augmentation_pip), ('_2_1_segmentation', _2_1_segmentation_pip)])\r\n",
    "# iris_recognition_pipeline = Pipeline([('_1_tratarDataset', _1_tratar_dataset_pip)])\r\n"
   ],
   "outputs": [],
   "metadata": {}
  },
  {
   "cell_type": "markdown",
   "source": [
    "## Ejecición pipeline\r\n"
   ],
   "metadata": {}
  },
  {
   "cell_type": "code",
   "execution_count": 18,
   "source": [
    "iris_recognition_pipeline.transform(confi_dict)"
   ],
   "outputs": [
    {
     "output_type": "stream",
     "name": "stdout",
     "text": [
      "Función 1, tratar_dataset_casia()\n"
     ]
    },
    {
     "output_type": "stream",
     "name": "stderr",
     "text": [
      "Lossy conversion from float32 to uint8. Range [-0.3856901526451111, 1.4601566791534424]. Convert image to uint8 prior to saving to suppress this warning.\n",
      "Lossy conversion from float32 to uint8. Range [-0.3902791142463684, 1.4215900897979736]. Convert image to uint8 prior to saving to suppress this warning.\n",
      "Lossy conversion from float32 to uint8. Range [-0.3451234996318817, 1.5804598331451416]. Convert image to uint8 prior to saving to suppress this warning.\n",
      "Lossy conversion from float32 to uint8. Range [-1.0490528345108032, 2.0738911628723145]. Convert image to uint8 prior to saving to suppress this warning.\n"
     ]
    },
    {
     "output_type": "stream",
     "name": "stdout",
     "text": [
      "-> Muestras copiadas satisfactoriamente.\n",
      "Función 1.1, data_augmentation()\n"
     ]
    },
    {
     "output_type": "stream",
     "name": "stderr",
     "text": [
      "Lossy conversion from float32 to uint8. Range [-0.533065140247345, 1.7367429733276367]. Convert image to uint8 prior to saving to suppress this warning.\n",
      "Lossy conversion from float32 to uint8. Range [-0.02050134539604187, 1.168955683708191]. Convert image to uint8 prior to saving to suppress this warning.\n",
      "Lossy conversion from float32 to uint8. Range [-0.9181095957756042, 2.197012424468994]. Convert image to uint8 prior to saving to suppress this warning.\n"
     ]
    },
    {
     "output_type": "stream",
     "name": "stdout",
     "text": [
      "->Data augmentation 'ruido gausseano' ejecutado correctamente\n",
      "Función 2.1, segmentation()\n",
      "->Modelo cargado\n",
      "3/3 [==============================] - 9s 3s/step\n"
     ]
    },
    {
     "output_type": "stream",
     "name": "stderr",
     "text": [
      "Lossy conversion from float32 to uint8. Range [0, 1]. Convert image to uint8 prior to saving to suppress this warning.\n",
      "Lossy conversion from float32 to uint8. Range [0, 1]. Convert image to uint8 prior to saving to suppress this warning.\n",
      "Lossy conversion from float32 to uint8. Range [0, 1]. Convert image to uint8 prior to saving to suppress this warning.\n"
     ]
    },
    {
     "output_type": "display_data",
     "data": {
      "image/png": "[encoded data removed]",
      "text/plain": [
       "<Figure size 432x288 with 1 Axes>"
      ]
     },
     "metadata": {
      "needs_background": "light"
     }
    }
   ],
   "metadata": {}
  }
 ],
 "metadata": {
  "orig_nbformat": 4,
  "language_info": {
   "name": "python",
   "version": "3.7.0",
   "mimetype": "text/x-python",
   "codemirror_mode": {
    "name": "ipython",
    "version": 3
   },
   "pygments_lexer": "ipython3",
   "nbconvert_exporter": "python",
   "file_extension": ".py"
  },
  "kernelspec": {
   "name": "python3",
   "display_name": "Python 3.7.0 64-bit (system)"
  },
  "interpreter": {
   "hash": "0600588c3b5f4418cbe7b5ebc6825b479f3bc010269d8b60d75058cdd010adfe"
  }
 },
 "nbformat": 4,
 "nbformat_minor": 2
}