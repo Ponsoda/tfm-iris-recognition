{
 "cells": [
  {
   "cell_type": "code",
   "execution_count": 1,
   "source": [
    "# https://www.kaggle.com/kutaykutlu/resnet50-transfer-learning-cifar-10-beginner\r\n",
    "\r\n",
    "# https://keras.io/examples/vision/image_classification_efficientnet_fine_tuning/"
   ],
   "outputs": [],
   "metadata": {}
  },
  {
   "cell_type": "code",
   "execution_count": 2,
   "source": [
    "from keras.applications.vgg16 import VGG16\r\n",
    "from tensorflow import keras"
   ],
   "outputs": [],
   "metadata": {}
  },
  {
   "cell_type": "code",
   "execution_count": 3,
   "source": [
    "model = VGG16(weights='imagenet')"
   ],
   "outputs": [],
   "metadata": {}
  },
  {
   "cell_type": "code",
   "execution_count": 4,
   "source": [
    "import tensorflow as tf\r\n",
    "import numpy as np\r\n",
    "import pathlib\r\n",
    "\r\n",
    "# step 1\r\n",
    "# IMAGE_PATHS_DIR =\r\n",
    "IMAGE_PATHS_DIR =\r\n",
    "# IMAGE_PATHS_DIR = \r\n",
    "\r\n",
    "paths = np.array([x.__str__() for x in pathlib.Path(IMAGE_PATHS_DIR).rglob('*.bmp')])\r\n",
    "filenames = tf.constant(paths)\r\n",
    "\r\n",
    "labels_array = np.array([x.split(\"\\\\\")[-1].split(\"_\")[0] for x in paths])\r\n",
    "labels = tf.constant(labels_array)\r\n",
    "\r\n",
    "n_clases = np.max([int(i) for i in labels_array])\r\n",
    "\r\n",
    "# step 2: create a dataset returning slices of `filenames`\r\n",
    "dataset = tf.data.Dataset.from_tensor_slices((filenames, labels))\r\n",
    "\r\n",
    "dataset_len = len(dataset)\r\n",
    "\r\n",
    "train_size = int(0.7 * dataset_len)\r\n",
    "test_size = int(0.30 * dataset_len)\r\n",
    "\r\n",
    "def _parse_function(filename, label):\r\n",
    "    img = tf.io.read_file(filename)\r\n",
    "    image = tf.image.decode_bmp(img, channels = 3)\r\n",
    "    label = int(label)\r\n",
    "    return image, label\r\n",
    "\r\n",
    "dataset = dataset.shuffle(dataset_len, seed=42)\r\n",
    "dataset = dataset.map(_parse_function)\r\n",
    "\r\n",
    "train_ds = dataset.take(train_size)\r\n",
    "test_ds = dataset.skip(train_size)\r\n",
    "\r\n",
    "size = (224, 224)\r\n",
    "\r\n",
    "train_ds = train_ds.map(lambda x, y: (tf.image.resize(x, size), y))\r\n",
    "test_ds = test_ds.map(lambda x, y: (tf.image.resize(x, size), y))\r\n",
    "\r\n",
    "\r\n",
    "def label_preprocess(image, label):\r\n",
    "    label = tf.one_hot(label-1, n_clases) \r\n",
    "    return image, label\r\n",
    "\r\n",
    "train_ds = train_ds.map(\r\n",
    "    label_preprocess, num_parallel_calls=tf.data.AUTOTUNE\r\n",
    ")\r\n",
    "\r\n",
    "batch_size = 64\r\n",
    "\r\n",
    "train_ds = train_ds.batch(batch_size=batch_size, drop_remainder=True)\r\n",
    "train_ds = train_ds.prefetch(tf.data.AUTOTUNE)\r\n",
    "\r\n",
    "test_ds = test_ds.map(label_preprocess)\r\n",
    "test_ds = test_ds.batch(batch_size=batch_size, drop_remainder=True)"
   ],
   "outputs": [],
   "metadata": {}
  },
  {
   "cell_type": "code",
   "execution_count": 5,
   "source": [
    "base_model = keras.applications.Xception(\r\n",
    "    weights=\"imagenet\",  # Load weights pre-trained on ImageNet.\r\n",
    "    input_shape=(224, 224, 3),\r\n",
    "    include_top=False,\r\n",
    ")  # Do not include the ImageNet classifier at the top.\r\n",
    "\r\n",
    "# Freeze the base_model\r\n",
    "base_model.trainable = False\r\n",
    "\r\n",
    "# Create new model on top\r\n",
    "inputs = keras.Input(shape=(224, 224, 3))\r\n",
    "\r\n",
    "outputs = VGG16(include_top=True, weights=None, classes=n_clases)(inputs)\r\n",
    "model = keras.Model(inputs, outputs)\r\n",
    "\r\n",
    "model.compile(\r\n",
    "        optimizer=\"adam\", loss=\"categorical_crossentropy\", metrics=[\"accuracy\"]\r\n",
    "    )"
   ],
   "outputs": [],
   "metadata": {}
  },
  {
   "cell_type": "code",
   "execution_count": 6,
   "source": [
    "epochs = 5  # @param {type: \"slider\", min:10, max:100}\r\n",
    "hist = model.fit(train_ds, epochs=epochs, validation_data=test_ds, verbose=2)"
   ],
   "outputs": [
    {
     "output_type": "stream",
     "name": "stdout",
     "text": [
      "Epoch 1/5\n",
      "12/12 - 420s - loss: 138.1001 - accuracy: 0.0026 - val_loss: 4.6769 - val_accuracy: 0.0125 - 420s/epoch - 35s/step\n",
      "Epoch 2/5\n",
      "12/12 - 393s - loss: 4.6903 - accuracy: 0.0091 - val_loss: 4.6830 - val_accuracy: 0.0063 - 393s/epoch - 33s/step\n",
      "Epoch 3/5\n",
      "12/12 - 417s - loss: 4.6826 - accuracy: 0.0104 - val_loss: 4.6803 - val_accuracy: 0.0094 - 417s/epoch - 35s/step\n",
      "Epoch 4/5\n",
      "12/12 - 417s - loss: 4.6830 - accuracy: 0.0104 - val_loss: 4.6801 - val_accuracy: 0.0094 - 417s/epoch - 35s/step\n",
      "Epoch 5/5\n",
      "12/12 - 418s - loss: 4.6843 - accuracy: 0.0117 - val_loss: 4.6813 - val_accuracy: 0.0188 - 418s/epoch - 35s/step\n"
     ]
    }
   ],
   "metadata": {}
  },
  {
   "cell_type": "code",
   "execution_count": 7,
   "source": [
    "import matplotlib.pyplot as plt\r\n",
    "\r\n",
    "\r\n",
    "def plot_hist(hist):\r\n",
    "    plt.plot(hist.history[\"accuracy\"])\r\n",
    "    plt.plot(hist.history[\"val_accuracy\"])\r\n",
    "    plt.title(\"model accuracy\")\r\n",
    "    plt.ylabel(\"accuracy\")\r\n",
    "    plt.xlabel(\"epoch\")\r\n",
    "    plt.legend([\"train\", \"validation\"], loc=\"upper left\")\r\n",
    "    plt.show()\r\n",
    "\r\n",
    "\r\n",
    "plot_hist(hist)"
   ],
   "outputs": [
    {
     "output_type": "display_data",
     "data": {
      "image/png": "[encoded data removed]",
      "text/plain": [
       "<Figure size 432x288 with 1 Axes>"
      ]
     },
     "metadata": {
      "needs_background": "light"
     }
    }
   ],
   "metadata": {}
  },
  {
   "cell_type": "code",
   "execution_count": 8,
   "source": [
    "from tensorflow.keras.models import Sequential\r\n",
    "from tensorflow.keras import layers\r\n",
    "\r\n",
    "img_augmentation = Sequential(\r\n",
    "    [\r\n",
    "        layers.RandomRotation(factor=0.15),\r\n",
    "        layers.RandomTranslation(height_factor=0.1, width_factor=0.1),\r\n",
    "        layers.RandomFlip(),\r\n",
    "        layers.RandomContrast(factor=0.1),\r\n",
    "    ],\r\n",
    "    name=\"img_augmentation\",\r\n",
    ")"
   ],
   "outputs": [],
   "metadata": {}
  },
  {
   "cell_type": "code",
   "execution_count": 9,
   "source": [
    "from tensorflow.keras import layers\r\n",
    "\r\n",
    "\r\n",
    "def build_model(num_classes):\r\n",
    "    inputs = layers.Input(shape=(224, 224, 3))\r\n",
    "    x = img_augmentation(inputs)\r\n",
    "    model = VGG16(include_top=False, input_tensor=inputs, weights=\"imagenet\")\r\n",
    "\r\n",
    "    # Freeze the pretrained weights\r\n",
    "    model.trainable = False\r\n",
    "\r\n",
    "    # Rebuild top\r\n",
    "    x = layers.GlobalAveragePooling2D(name=\"avg_pool\")(model.output)\r\n",
    "    x = layers.BatchNormalization()(x)\r\n",
    "\r\n",
    "    top_dropout_rate = 0.2\r\n",
    "    x = layers.Dropout(top_dropout_rate, name=\"top_dropout\")(x)\r\n",
    "    outputs = layers.Dense(num_classes, activation=\"softmax\", name=\"pred\")(x)\r\n",
    "\r\n",
    "    # Compile\r\n",
    "    model = keras.Model(inputs, outputs)\r\n",
    "    optimizer = keras.optimizers.Adam(learning_rate=1e-2)\r\n",
    "    model.compile(\r\n",
    "        optimizer=optimizer, loss=\"categorical_crossentropy\", metrics=[\"accuracy\"]\r\n",
    "    )\r\n",
    "    return model"
   ],
   "outputs": [],
   "metadata": {}
  },
  {
   "cell_type": "code",
   "execution_count": 10,
   "source": [
    "model = build_model(num_classes=n_clases)\r\n",
    "\r\n",
    "epochs = 10  # @param {type: \"slider\", min:8, max:80}\r\n",
    "hist = model.fit(train_ds, epochs=epochs, validation_data=test_ds, verbose=2)"
   ],
   "outputs": [
    {
     "output_type": "stream",
     "name": "stdout",
     "text": [
      "Epoch 1/10\n",
      "12/12 - 133s - loss: 4.5488 - accuracy: 0.1276 - val_loss: 6.9878 - val_accuracy: 0.1000 - 133s/epoch - 11s/step\n",
      "Epoch 2/10\n",
      "12/12 - 135s - loss: 1.8056 - accuracy: 0.6224 - val_loss: 4.6363 - val_accuracy: 0.2656 - 135s/epoch - 11s/step\n",
      "Epoch 3/10\n",
      "12/12 - 138s - loss: 0.8710 - accuracy: 0.7995 - val_loss: 3.6013 - val_accuracy: 0.2594 - 138s/epoch - 11s/step\n",
      "Epoch 4/10\n",
      "12/12 - 143s - loss: 0.5479 - accuracy: 0.8919 - val_loss: 1.8796 - val_accuracy: 0.5531 - 143s/epoch - 12s/step\n",
      "Epoch 5/10\n",
      "12/12 - 139s - loss: 0.2770 - accuracy: 0.9479 - val_loss: 1.1204 - val_accuracy: 0.7063 - 139s/epoch - 12s/step\n",
      "Epoch 6/10\n",
      "12/12 - 136s - loss: 0.1925 - accuracy: 0.9635 - val_loss: 0.7048 - val_accuracy: 0.8344 - 136s/epoch - 11s/step\n",
      "Epoch 7/10\n",
      "12/12 - 137s - loss: 0.1498 - accuracy: 0.9701 - val_loss: 0.4805 - val_accuracy: 0.8719 - 137s/epoch - 11s/step\n",
      "Epoch 8/10\n",
      "12/12 - 136s - loss: 0.1313 - accuracy: 0.9818 - val_loss: 0.2886 - val_accuracy: 0.9281 - 136s/epoch - 11s/step\n",
      "Epoch 9/10\n",
      "12/12 - 140s - loss: 0.0865 - accuracy: 0.9870 - val_loss: 0.2389 - val_accuracy: 0.9375 - 140s/epoch - 12s/step\n",
      "Epoch 10/10\n",
      "12/12 - 136s - loss: 0.0686 - accuracy: 0.9896 - val_loss: 0.1714 - val_accuracy: 0.9688 - 136s/epoch - 11s/step\n"
     ]
    }
   ],
   "metadata": {}
  },
  {
   "cell_type": "code",
   "execution_count": 11,
   "source": [
    "plot_hist(hist)"
   ],
   "outputs": [
    {
     "output_type": "display_data",
     "data": {
      "image/png": "[encoded data removed]",
      "text/plain": [
       "<Figure size 432x288 with 1 Axes>"
      ]
     },
     "metadata": {
      "needs_background": "light"
     }
    }
   ],
   "metadata": {}
  },
  {
   "cell_type": "code",
   "execution_count": 12,
   "source": [
    "def unfreeze_model(model):\r\n",
    "    # We unfreeze the top 20 layers while leaving BatchNorm layers frozen\r\n",
    "    for layer in model.layers[-20:]:\r\n",
    "        if not isinstance(layer, layers.BatchNormalization):\r\n",
    "            layer.trainable = True\r\n",
    "\r\n",
    "    optimizer = tf.keras.optimizers.Adam(learning_rate=1e-4)\r\n",
    "    model.compile(\r\n",
    "        optimizer=optimizer, loss=\"categorical_crossentropy\", metrics=[\"accuracy\"]\r\n",
    "    )\r\n",
    "\r\n",
    "\r\n",
    "unfreeze_model(model)\r\n",
    "\r\n",
    "epochs = 5  # @param {type: \"slider\", min:8, max:50}\r\n",
    "hist = model.fit(train_ds, epochs=epochs, validation_data=test_ds, verbose=2)\r\n",
    "plot_hist(hist)"
   ],
   "outputs": [
    {
     "output_type": "stream",
     "name": "stdout",
     "text": [
      "Epoch 1/5\n",
      "12/12 - 338s - loss: 1.1934 - accuracy: 0.6992 - val_loss: 8.3528 - val_accuracy: 0.2500 - 338s/epoch - 28s/step\n",
      "Epoch 2/5\n",
      "12/12 - 350s - loss: 0.7412 - accuracy: 0.8073 - val_loss: 5.0176 - val_accuracy: 0.3750 - 350s/epoch - 29s/step\n",
      "Epoch 3/5\n",
      "12/12 - 352s - loss: 0.4149 - accuracy: 0.8958 - val_loss: 3.4885 - val_accuracy: 0.4719 - 352s/epoch - 29s/step\n",
      "Epoch 4/5\n",
      "12/12 - 350s - loss: 0.2337 - accuracy: 0.9440 - val_loss: 1.8178 - val_accuracy: 0.6125 - 350s/epoch - 29s/step\n",
      "Epoch 5/5\n",
      "12/12 - 341s - loss: 0.1649 - accuracy: 0.9583 - val_loss: 0.8594 - val_accuracy: 0.7625 - 341s/epoch - 28s/step\n"
     ]
    },
    {
     "output_type": "display_data",
     "data": {
      "image/png": "[encoded data removed]",
      "text/plain": [
       "<Figure size 432x288 with 1 Axes>"
      ]
     },
     "metadata": {
      "needs_background": "light"
     }
    }
   ],
   "metadata": {}
  },
  {
   "cell_type": "code",
   "execution_count": 29,
   "source": [
    "size = (224, 224)\r\n",
    "\r\n",
    "def _parse_image(filename):\r\n",
    "    img = tf.io.read_file(filename)\r\n",
    "    img = tf.image.decode_bmp(img, channels = 3)\r\n",
    "    img = tf.image.resize(img, size)\r\n",
    "    img = tf.expand_dims(img, 0)\r\n",
    "    return img\r\n",
    "\r\n",
    "# try_image_path =  \r\n",
    "try_image_path =  \r\n",
    "\r\n",
    "try_image = _parse_image(try_image_path)"
   ],
   "outputs": [],
   "metadata": {}
  },
  {
   "cell_type": "code",
   "execution_count": 30,
   "source": [
    "result = model.predict(try_image)\r\n",
    "np.argmax(result) +1"
   ],
   "outputs": [
    {
     "output_type": "execute_result",
     "data": {
      "text/plain": [
       "51"
      ]
     },
     "metadata": {},
     "execution_count": 30
    }
   ],
   "metadata": {}
  },
  {
   "cell_type": "code",
   "execution_count": 27,
   "source": [
    "result"
   ],
   "outputs": [
    {
     "output_type": "execute_result",
     "data": {
      "text/plain": [
       "array([[1.87577176e-09, 9.99983072e-01, 1.43423183e-13, 4.51463389e-12,\n",
       "        9.66088276e-09, 2.71160785e-11, 1.11797860e-09, 9.10770001e-11,\n",
       "        8.74848284e-12, 2.16770668e-09, 1.83411231e-10, 2.20195186e-13,\n",
       "        3.26352945e-09, 1.25531008e-08, 2.46699727e-08, 3.31117057e-12,\n",
       "        2.54939209e-06, 1.37348097e-12, 1.61500171e-11, 2.02542978e-08,\n",
       "        2.22832135e-08, 2.55434944e-08, 7.38563516e-11, 2.48019716e-09,\n",
       "        1.47036949e-11, 2.12098585e-11, 2.17068745e-07, 3.16465409e-09,\n",
       "        6.01794439e-13, 4.94443505e-12, 4.01616899e-06, 7.36863441e-08,\n",
       "        4.83530091e-11, 1.24407391e-08, 2.93633207e-09, 7.15121462e-10,\n",
       "        8.96994035e-10, 4.25074154e-09, 2.40839199e-07, 4.46284574e-08,\n",
       "        5.98406314e-06, 3.12259163e-10, 1.67392389e-09, 1.78752324e-09,\n",
       "        2.56335415e-08, 2.24780153e-10, 2.08263658e-12, 1.55412366e-07,\n",
       "        1.14366058e-14, 2.06592625e-11, 4.79272817e-13, 1.30461342e-09,\n",
       "        1.47085552e-10, 1.50325946e-10, 2.32676769e-07, 7.52490951e-12,\n",
       "        4.26195299e-07, 1.25472653e-11, 2.80361192e-08, 2.72228874e-07,\n",
       "        6.16334805e-09, 7.25097777e-08, 6.06804065e-08, 1.52233518e-13,\n",
       "        9.46868486e-11, 8.26607359e-12, 9.15183040e-10, 7.29342808e-10,\n",
       "        1.43649828e-10, 1.98769265e-10, 3.38051787e-12, 1.19310746e-12,\n",
       "        6.53656818e-09, 1.53891982e-10, 8.20059298e-11, 2.60731367e-12,\n",
       "        5.68491539e-11, 6.27820753e-14, 1.35166687e-11, 1.81837836e-10,\n",
       "        1.46860855e-12, 2.85805228e-08, 5.65898836e-13, 1.50645590e-11,\n",
       "        9.72649628e-10, 1.00004727e-09, 1.23801358e-09, 4.73790833e-11,\n",
       "        8.42816233e-11, 3.20451798e-09, 4.84303131e-09, 1.17994094e-08,\n",
       "        4.93670216e-14, 2.52812224e-12, 1.35576641e-12, 4.66589822e-10,\n",
       "        3.52521126e-13, 3.54268992e-09, 1.78548487e-06, 4.87193347e-07,\n",
       "        2.54915609e-08, 4.53803245e-11, 1.14514294e-10, 6.75313429e-13,\n",
       "        4.55647609e-09, 1.93605354e-09, 1.92087162e-11, 3.18211804e-08]],\n",
       "      dtype=float32)"
      ]
     },
     "metadata": {},
     "execution_count": 27
    }
   ],
   "metadata": {}
  },
  {
   "cell_type": "code",
   "execution_count": 16,
   "source": [
    "# model.save('raw_complete')"
   ],
   "outputs": [],
   "metadata": {}
  },
  {
   "cell_type": "code",
   "execution_count": 17,
   "source": [
    "model.save('normal_complete')"
   ],
   "outputs": [
    {
     "output_type": "stream",
     "name": "stdout",
     "text": [
      "INFO:tensorflow:Assets written to: normal_complete\\assets\n"
     ]
    }
   ],
   "metadata": {}
  },
  {
   "cell_type": "code",
   "execution_count": 18,
   "source": [
    "# import tensorflow_datasets as tfds\r\n",
    "\r\n",
    "# batch_size = 64\r\n",
    "\r\n",
    "# dataset_name = \"stanford_dogs\"\r\n",
    "# (ds_train, ds_test), ds_info = tfds.load(\r\n",
    "#     dataset_name, split=[\"train\", \"test\"], with_info=True, as_supervised=True\r\n",
    "# )\r\n",
    "# NUM_CLASSES = ds_info.features[\"label\"].num_classes"
   ],
   "outputs": [],
   "metadata": {}
  },
  {
   "cell_type": "code",
   "execution_count": 19,
   "source": [
    "# IMG_SIZE = 224\r\n",
    "\r\n",
    "# size = (IMG_SIZE, IMG_SIZE)\r\n",
    "# ds_train = ds_train.map(lambda image, label: (tf.image.resize(image, size), label))\r\n",
    "# ds_test = ds_test.map(lambda image, label: (tf.image.resize(image, size), label))"
   ],
   "outputs": [],
   "metadata": {}
  },
  {
   "cell_type": "code",
   "execution_count": 20,
   "source": [
    "# # One-hot / categorical encoding\r\n",
    "# def input_preprocess(image, label):\r\n",
    "#     label = tf.one_hot(label, NUM_CLASSES)\r\n",
    "#     return image, label\r\n",
    "\r\n",
    "\r\n",
    "# ds_train = ds_train.map(\r\n",
    "#     input_preprocess, num_parallel_calls=tf.data.AUTOTUNE\r\n",
    "# )\r\n",
    "# ds_train = ds_train.batch(batch_size=batch_size, drop_remainder=True)\r\n",
    "# ds_train = ds_train.prefetch(tf.data.AUTOTUNE)\r\n",
    "\r\n",
    "# ds_test = ds_test.map(input_preprocess)\r\n",
    "# ds_test = ds_test.batch(batch_size=batch_size, drop_remainder=True)"
   ],
   "outputs": [],
   "metadata": {}
  },
  {
   "cell_type": "code",
   "execution_count": 21,
   "source": [
    "# x = 0\r\n",
    "# for i, a in ds_test:\r\n",
    "#     if x < 1:\r\n",
    "#         print(a.numpy()==1) \r\n",
    "#         print(\"-----\")\r\n",
    "#         x +=1\r\n",
    "#     else:\r\n",
    "#         break"
   ],
   "outputs": [],
   "metadata": {}
  },
  {
   "cell_type": "code",
   "execution_count": 22,
   "source": [
    "# from tensorflow.keras.applications import EfficientNetB0\r\n",
    "# from tensorflow.keras import layers\r\n",
    "\r\n",
    "\r\n",
    "# inputs = layers.Input(shape=(IMG_SIZE, IMG_SIZE, 3))\r\n",
    "# outputs = EfficientNetB0(include_top=True, weights=None, classes=NUM_CLASSES)(inputs)\r\n",
    "\r\n",
    "# model = tf.keras.Model(inputs, outputs)\r\n",
    "# model.compile(\r\n",
    "#         optimizer=\"adam\", loss=\"categorical_crossentropy\", metrics=[\"accuracy\"]\r\n",
    "#     )\r\n",
    "\r\n",
    "# model.summary()\r\n",
    "\r\n",
    "# epochs = 1  # @param {type: \"slider\", min:10, max:100}\r\n",
    "# hist = model.fit(ds_train, epochs=epochs, validation_data=ds_test, verbose=2)"
   ],
   "outputs": [],
   "metadata": {}
  }
 ],
 "metadata": {
  "orig_nbformat": 4,
  "language_info": {
   "name": "python",
   "version": "3.7.0",
   "mimetype": "text/x-python",
   "codemirror_mode": {
    "name": "ipython",
    "version": 3
   },
   "pygments_lexer": "ipython3",
   "nbconvert_exporter": "python",
   "file_extension": ".py"
  },
  "kernelspec": {
   "name": "python3",
   "display_name": "Python 3.7.0 64-bit (system)"
  },
  "interpreter": {
   "hash": "0600588c3b5f4418cbe7b5ebc6825b479f3bc010269d8b60d75058cdd010adfe"
  }
 },
 "nbformat": 4,
 "nbformat_minor": 2
}
